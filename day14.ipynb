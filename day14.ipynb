{
 "cells": [
  {
   "cell_type": "markdown",
   "metadata": {},
   "source": [
    "### Day 14"
   ]
  },
  {
   "cell_type": "code",
   "execution_count": 44,
   "metadata": {},
   "outputs": [],
   "source": [
    "import numpy as np\n",
    "from collections import defaultdict, Counter\n",
    "from tqdm import tqdm_notebook"
   ]
  },
  {
   "cell_type": "code",
   "execution_count": 2,
   "metadata": {},
   "outputs": [],
   "source": [
    "day_i = 14"
   ]
  },
  {
   "cell_type": "code",
   "execution_count": 3,
   "metadata": {},
   "outputs": [
    {
     "name": "stdout",
     "output_type": "stream",
     "text": [
      "Initializing day 14\n"
     ]
    }
   ],
   "source": [
    "%run start_day.py $day_i"
   ]
  },
  {
   "cell_type": "code",
   "execution_count": 4,
   "metadata": {},
   "outputs": [
    {
     "name": "stdout",
     "output_type": "stream",
     "text": [
      "/home/vincent/Documents/AdventOfCode/2021\n"
     ]
    }
   ],
   "source": [
    "cd /home/vincent/Documents/AdventOfCode/2021"
   ]
  },
  {
   "cell_type": "code",
   "execution_count": 5,
   "metadata": {},
   "outputs": [],
   "source": [
    "PATH = f\"day{day_i}/input{day_i}\""
   ]
  },
  {
   "cell_type": "code",
   "execution_count": 6,
   "metadata": {},
   "outputs": [
    {
     "name": "stdout",
     "output_type": "stream",
     "text": [
      "102 day14/input14\r\n"
     ]
    }
   ],
   "source": [
    "!wc -l $PATH"
   ]
  },
  {
   "cell_type": "code",
   "execution_count": 7,
   "metadata": {},
   "outputs": [
    {
     "name": "stdout",
     "output_type": "stream",
     "text": [
      "PPFCHPFNCKOKOSBVCFPP\r\n",
      "\r\n",
      "VC -> N\r\n",
      "SC -> H\r\n",
      "CK -> P\r\n",
      "OK -> O\r\n",
      "KV -> O\r\n",
      "HS -> B\r\n",
      "OH -> O\r\n",
      "VN -> F\r\n"
     ]
    }
   ],
   "source": [
    "!head $PATH"
   ]
  },
  {
   "cell_type": "code",
   "execution_count": 8,
   "metadata": {},
   "outputs": [
    {
     "name": "stdout",
     "output_type": "stream",
     "text": [
      "FC -> N\r\n",
      "PN -> S\r\n",
      "HH -> N\r\n",
      "OB -> P\r\n",
      "BV -> S\r\n",
      "KF -> N\r\n",
      "OP -> H\r\n",
      "NF -> V\r\n",
      "CH -> K\r\n",
      "NH -> P\r\n"
     ]
    }
   ],
   "source": [
    "!tail $PATH"
   ]
  },
  {
   "cell_type": "code",
   "execution_count": 24,
   "metadata": {},
   "outputs": [],
   "source": [
    "def parse_input(inp):\n",
    "    poly = inp[0]\n",
    "    rules = []\n",
    "    for x in inp[2:]:\n",
    "        s = x.split(' -> ')\n",
    "        rules.append((s[0], s[1]))\n",
    "    return poly, rules"
   ]
  },
  {
   "cell_type": "code",
   "execution_count": 25,
   "metadata": {},
   "outputs": [],
   "source": [
    "# real input\n",
    "with open(PATH, 'r') as f:\n",
    "    inputs = parse_input([x.strip() for x in f.readlines()])\n"
   ]
  },
  {
   "cell_type": "code",
   "execution_count": 26,
   "metadata": {},
   "outputs": [],
   "source": [
    "# test input\n",
    "test_str1 = \"\"\"NNCB\n",
    "\n",
    "CH -> B\n",
    "HH -> N\n",
    "CB -> H\n",
    "NH -> C\n",
    "HB -> C\n",
    "HC -> B\n",
    "HN -> C\n",
    "NN -> C\n",
    "BH -> H\n",
    "NC -> B\n",
    "NB -> B\n",
    "BN -> B\n",
    "BB -> N\n",
    "BC -> B\n",
    "CC -> N\n",
    "CN -> C\"\"\"\n",
    "\n",
    "inputs_1 = parse_input(test_str1.split('\\n'))"
   ]
  },
  {
   "cell_type": "code",
   "execution_count": 29,
   "metadata": {},
   "outputs": [
    {
     "data": {
      "text/plain": [
       "('NNCB',\n",
       " [('CH', 'B'),\n",
       "  ('HH', 'N'),\n",
       "  ('CB', 'H'),\n",
       "  ('NH', 'C'),\n",
       "  ('HB', 'C'),\n",
       "  ('HC', 'B'),\n",
       "  ('HN', 'C'),\n",
       "  ('NN', 'C'),\n",
       "  ('BH', 'H'),\n",
       "  ('NC', 'B'),\n",
       "  ('NB', 'B'),\n",
       "  ('BN', 'B'),\n",
       "  ('BB', 'N'),\n",
       "  ('BC', 'B'),\n",
       "  ('CC', 'N'),\n",
       "  ('CN', 'C')])"
      ]
     },
     "execution_count": 29,
     "metadata": {},
     "output_type": "execute_result"
    }
   ],
   "source": [
    "inputs_1"
   ]
  },
  {
   "cell_type": "code",
   "execution_count": 77,
   "metadata": {},
   "outputs": [],
   "source": [
    "def one_step(s, r):\n",
    "    new_s = ''\n",
    "    for i,c in enumerate(s):\n",
    "        new_s += c\n",
    "        if i < len(s) - 1:\n",
    "            key = c + s[i+1]\n",
    "            if key in r:\n",
    "                new_s += r[key]\n",
    "    return new_s\n",
    "\n",
    "def one_step_efficient(counts, rule_dict):\n",
    "    n_transf = defaultdict(int)\n",
    "    for k in rule_dict:\n",
    "        n_transf[k] = counts[k]\n",
    "    for k, v in rule_dict.items():\n",
    "        # e.g. CH -> B\n",
    "        # CBH\n",
    "        counts[k] -= n_transf[k]\n",
    "        counts[k[0] + v] += n_transf[k]\n",
    "        counts[v + k[1]] += n_transf[k]\n",
    "    return counts\n",
    "\n",
    "def solve1(inp, n):\n",
    "    poly, rules = inp\n",
    "    rule_dict = {k:v for k,v in rules}\n",
    "    for _ in tqdm_notebook(range(n)):\n",
    "        poly = one_step(poly, rule_dict)\n",
    "    counts = Counter(list(poly))\n",
    "    return max(counts.values()) - min(counts.values())\n",
    "\n",
    "def solve2(inp, n):\n",
    "    poly, rules = inp\n",
    "    rule_dict = {k:v for k,v in rules}\n",
    "    pair_counts = defaultdict(int)\n",
    "    for i, c in enumerate(poly):\n",
    "        if i < len(poly) - 1:\n",
    "            pair_counts[c + poly[i+1]] += 1\n",
    "    for _ in range(n):\n",
    "        pair_counts = one_step_efficient(pair_counts, rule_dict)\n",
    "    letter_counts = defaultdict(int)\n",
    "    for k, v in pair_counts.items():\n",
    "        letter_counts[k[0]] += v\n",
    "        letter_counts[k[1]] += v\n",
    "    letter_counts[poly[0]] += 1\n",
    "    letter_counts[poly[-1]] += 1\n",
    "    return int(max(letter_counts.values())/2 - min(letter_counts.values())/2)"
   ]
  },
  {
   "cell_type": "code",
   "execution_count": 39,
   "metadata": {},
   "outputs": [
    {
     "data": {
      "text/plain": [
       "'NCNBCHB'"
      ]
     },
     "execution_count": 39,
     "metadata": {},
     "output_type": "execute_result"
    }
   ],
   "source": [
    "one_step(inputs_1[0], {k:v for k,v in inputs_1[1]})"
   ]
  },
  {
   "cell_type": "code",
   "execution_count": 40,
   "metadata": {},
   "outputs": [
    {
     "data": {
      "text/plain": [
       "1588"
      ]
     },
     "execution_count": 40,
     "metadata": {},
     "output_type": "execute_result"
    }
   ],
   "source": [
    "solve1(inputs_1, 10)"
   ]
  },
  {
   "cell_type": "code",
   "execution_count": 46,
   "metadata": {},
   "outputs": [
    {
     "name": "stderr",
     "output_type": "stream",
     "text": [
      "<ipython-input-45-8d3e440eb024>:14: TqdmDeprecationWarning: This function will be removed in tqdm==5.0.0\n",
      "Please use `tqdm.notebook.tqdm` instead of `tqdm.tqdm_notebook`\n",
      "  for _ in tqdm_notebook(range(n)):\n"
     ]
    },
    {
     "data": {
      "application/vnd.jupyter.widget-view+json": {
       "model_id": "a30d69985dcf42b89f2a2c9bad0aea19",
       "version_major": 2,
       "version_minor": 0
      },
      "text/plain": [
       "  0%|          | 0/10 [00:00<?, ?it/s]"
      ]
     },
     "metadata": {},
     "output_type": "display_data"
    },
    {
     "data": {
      "text/plain": [
       "2027"
      ]
     },
     "execution_count": 46,
     "metadata": {},
     "output_type": "execute_result"
    }
   ],
   "source": [
    "solve1(inputs, 10)"
   ]
  },
  {
   "cell_type": "code",
   "execution_count": 78,
   "metadata": {},
   "outputs": [
    {
     "data": {
      "text/plain": [
       "1588"
      ]
     },
     "execution_count": 78,
     "metadata": {},
     "output_type": "execute_result"
    }
   ],
   "source": [
    "solve2(inputs_1, 10)"
   ]
  },
  {
   "cell_type": "code",
   "execution_count": 79,
   "metadata": {},
   "outputs": [
    {
     "data": {
      "text/plain": [
       "2027"
      ]
     },
     "execution_count": 79,
     "metadata": {},
     "output_type": "execute_result"
    }
   ],
   "source": [
    "solve2(inputs, 10)"
   ]
  },
  {
   "cell_type": "code",
   "execution_count": 80,
   "metadata": {},
   "outputs": [
    {
     "data": {
      "text/plain": [
       "2188189693529"
      ]
     },
     "execution_count": 80,
     "metadata": {},
     "output_type": "execute_result"
    }
   ],
   "source": [
    "solve2(inputs_1, 40)"
   ]
  },
  {
   "cell_type": "code",
   "execution_count": 81,
   "metadata": {},
   "outputs": [
    {
     "data": {
      "text/plain": [
       "2265039461737"
      ]
     },
     "execution_count": 81,
     "metadata": {},
     "output_type": "execute_result"
    }
   ],
   "source": [
    "solve2(inputs, 40)"
   ]
  },
  {
   "cell_type": "code",
   "execution_count": null,
   "metadata": {},
   "outputs": [],
   "source": []
  }
 ],
 "metadata": {
  "kernelspec": {
   "display_name": "Python 3",
   "language": "python",
   "name": "python3"
  },
  "language_info": {
   "codemirror_mode": {
    "name": "ipython",
    "version": 3
   },
   "file_extension": ".py",
   "mimetype": "text/x-python",
   "name": "python",
   "nbconvert_exporter": "python",
   "pygments_lexer": "ipython3",
   "version": "3.8.10"
  }
 },
 "nbformat": 4,
 "nbformat_minor": 2
}
