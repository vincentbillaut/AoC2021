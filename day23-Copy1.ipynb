{
 "cells": [
  {
   "cell_type": "markdown",
   "metadata": {},
   "source": [
    "### Day 23"
   ]
  },
  {
   "cell_type": "code",
   "execution_count": 72,
   "metadata": {},
   "outputs": [],
   "source": [
    "import numpy as np\n",
    "import time\n",
    "from collections import defaultdict, Counter\n",
    "from itertools import product"
   ]
  },
  {
   "cell_type": "code",
   "execution_count": 2,
   "metadata": {},
   "outputs": [],
   "source": [
    "day_i = 23"
   ]
  },
  {
   "cell_type": "code",
   "execution_count": 3,
   "metadata": {},
   "outputs": [
    {
     "name": "stdout",
     "output_type": "stream",
     "text": [
      "Initializing day 23\n"
     ]
    }
   ],
   "source": [
    "%run start_day.py $day_i"
   ]
  },
  {
   "cell_type": "code",
   "execution_count": 4,
   "metadata": {},
   "outputs": [
    {
     "name": "stdout",
     "output_type": "stream",
     "text": [
      "/home/vincent/Documents/AdventOfCode/2021\n"
     ]
    }
   ],
   "source": [
    "cd /home/vincent/Documents/AdventOfCode/2021"
   ]
  },
  {
   "cell_type": "code",
   "execution_count": 3,
   "metadata": {},
   "outputs": [],
   "source": [
    "PATH = f\"day{day_i}/input{day_i}\""
   ]
  },
  {
   "cell_type": "code",
   "execution_count": 4,
   "metadata": {},
   "outputs": [
    {
     "name": "stdout",
     "output_type": "stream",
     "text": [
      "5 day23/input23\r\n"
     ]
    }
   ],
   "source": [
    "!wc -l $PATH"
   ]
  },
  {
   "cell_type": "code",
   "execution_count": 5,
   "metadata": {},
   "outputs": [
    {
     "name": "stdout",
     "output_type": "stream",
     "text": [
      "#############\r\n",
      "#...........#\r\n",
      "###A#C#C#D###\r\n",
      "  #B#D#A#B#\r\n",
      "  #########\r\n"
     ]
    }
   ],
   "source": [
    "!head $PATH"
   ]
  },
  {
   "cell_type": "code",
   "execution_count": 8,
   "metadata": {},
   "outputs": [
    {
     "name": "stdout",
     "output_type": "stream",
     "text": [
      "#############\r\n",
      "#...........#\r\n",
      "###A#C#C#D###\r\n",
      "  #B#D#A#B#\r\n",
      "  #########\r\n"
     ]
    }
   ],
   "source": [
    "!tail $PATH"
   ]
  },
  {
   "cell_type": "code",
   "execution_count": 15,
   "metadata": {},
   "outputs": [
    {
     "data": {
      "text/plain": [
       "13066"
      ]
     },
     "execution_count": 15,
     "metadata": {},
     "output_type": "execute_result"
    }
   ],
   "source": [
    "SOLUTION = \"D\" * 12 + \"C\" * 9 + \"A\" * 10 + \"B\" * 15 + \"A\" * 6\n",
    "moves = [x.strip() for x in SOLUTION]\n",
    "cost = {'A': 1, 'B': 10, 'C': 100, 'D': 1000}\n",
    "sum(cost[x] for x in moves)"
   ]
  },
  {
   "cell_type": "code",
   "execution_count": null,
   "metadata": {},
   "outputs": [],
   "source": []
  },
  {
   "cell_type": "code",
   "execution_count": 6,
   "metadata": {},
   "outputs": [],
   "source": [
    "NEW_INPUT = \"\"\"#############\n",
    "#...........#\n",
    "###A#C#C#D###\n",
    "  #D#C#B#A#\n",
    "  #D#B#A#C#\n",
    "  #B#D#A#B#\n",
    "  #########\n",
    "\"\"\""
   ]
  },
  {
   "cell_type": "code",
   "execution_count": 62,
   "metadata": {},
   "outputs": [],
   "source": [
    "SIMPLE_INPUT = \"\"\"#############\n",
    "#...........#\n",
    "###A#C#B#D###\n",
    "  #########\n",
    "\"\"\"\n",
    "\n",
    "# 460\n",
    "\n",
    "SIMPLE_INPUT2 = \"\"\"#############\n",
    "#...........#\n",
    "###C#A#D#B###\n",
    "  #########\n",
    "\"\"\"\n",
    "\n",
    "# 4666 ?\n",
    "\n",
    "SIMPLE_INPUT3 = \"\"\"#############\n",
    "#...........#\n",
    "###C#A#D#B###\n",
    "###C#A#D#B###\n",
    "  #########\n",
    "\"\"\"\n",
    "\n",
    "# 11557"
   ]
  },
  {
   "cell_type": "code",
   "execution_count": 63,
   "metadata": {},
   "outputs": [],
   "source": [
    "letters = [\"A\", \"B\", \"C\", \"D\"]\n",
    "\n",
    "def parse_input(inp):\n",
    "    positions = {}\n",
    "    for i, line in enumerate(inp):\n",
    "        if '.' in line or any(l in line for l in letters):\n",
    "            for j, x in enumerate(line):\n",
    "                if x in letters or x == '.':\n",
    "                    positions[(i, j)] = x\n",
    "    return positions"
   ]
  },
  {
   "cell_type": "code",
   "execution_count": 64,
   "metadata": {},
   "outputs": [],
   "source": [
    "# real input\n",
    "with open(PATH, 'r') as f:\n",
    "    inputs = parse_input([x for x in f.readlines()])"
   ]
  },
  {
   "cell_type": "code",
   "execution_count": 65,
   "metadata": {},
   "outputs": [],
   "source": [
    "# new input\n",
    "\n",
    "inputs_new = parse_input(NEW_INPUT.split('\\n'))\n",
    "inputs_simple = parse_input(SIMPLE_INPUT.split('\\n'))\n",
    "inputs_simple2 = parse_input(SIMPLE_INPUT2.split('\\n'))\n",
    "inputs_simple3 = parse_input(SIMPLE_INPUT3.split('\\n'))"
   ]
  },
  {
   "cell_type": "code",
   "execution_count": 11,
   "metadata": {},
   "outputs": [
    {
     "data": {
      "text/plain": [
       "{(1, 1): '.',\n",
       " (1, 2): '.',\n",
       " (1, 3): '.',\n",
       " (1, 4): '.',\n",
       " (1, 5): '.',\n",
       " (1, 6): '.',\n",
       " (1, 7): '.',\n",
       " (1, 8): '.',\n",
       " (1, 9): '.',\n",
       " (1, 10): '.',\n",
       " (1, 11): '.',\n",
       " (2, 3): 'A',\n",
       " (2, 5): 'C',\n",
       " (2, 7): 'C',\n",
       " (2, 9): 'D',\n",
       " (3, 3): 'B',\n",
       " (3, 5): 'D',\n",
       " (3, 7): 'A',\n",
       " (3, 9): 'B'}"
      ]
     },
     "execution_count": 11,
     "metadata": {},
     "output_type": "execute_result"
    }
   ],
   "source": [
    "inputs"
   ]
  },
  {
   "cell_type": "code",
   "execution_count": 42,
   "metadata": {},
   "outputs": [
    {
     "name": "stdout",
     "output_type": "stream",
     "text": [
      "#############\r\n",
      "#...........#\r\n",
      "###A#C#C#D###\r\n",
      "  #B#D#A#B#\r\n",
      "  #########\r\n"
     ]
    }
   ],
   "source": [
    "!head $PATH"
   ]
  },
  {
   "cell_type": "code",
   "execution_count": 97,
   "metadata": {},
   "outputs": [],
   "source": [
    "ROOM_j = {\"A\": 3, \"B\": 5, \"C\": 7, \"D\": 9}\n",
    "COST = {'A': 1, 'B': 10, 'C': 100, 'D': 1000}\n",
    "\n",
    "def print_board(d):\n",
    "    n = max(i for i, _ in d)\n",
    "    m = max(j for _, j in d)\n",
    "    for i in range(n+2):\n",
    "        s = ''.join(d.get((i, j), '#') for j in range(m+2))\n",
    "        print(s)\n",
    "\n",
    "def hash_board(d):\n",
    "    s = ''\n",
    "    n = max(i for i, _ in d)\n",
    "    m = max(j for _, j in d)\n",
    "    for i in range(n+2):\n",
    "        s += ''.join(d.get((i, j), '#') for j in range(m+2))\n",
    "    return s\n",
    "    \n",
    "    \n",
    "def neighbors(point):\n",
    "    i, j = point\n",
    "    return [(i+1, j), (i, j+1), (i-1, j), (i, j-1)]\n",
    "        \n",
    "def can_move(amph, d):\n",
    "    \"\"\"\n",
    "    returns \n",
    "     - the list of points that amph can move to\n",
    "     - whether the amph is going to its room\n",
    "    \"\"\"\n",
    "    if d[amph] not in ROOM_j: return [], False\n",
    "    i, j = amph\n",
    "    m = max(j for _, j in d)\n",
    "    target_j = ROOM_j[d[amph]]\n",
    "    # amph needs space to move\n",
    "    if all(d.get((ni, nj), '#') != '.' for ni, nj in neighbors(amph)):\n",
    "        return [], False\n",
    "    # if amph is all set in its room, no moving allowed\n",
    "    if j == target_j and all(d.get((xi, xj), '#') in (d[amph], '#') for xi, xj in d if xi >= 2 and xj == j):\n",
    "        return [], False\n",
    "    # amph can only leave the hallway to go to its room\n",
    "    # if its room is empty / has its friends\n",
    "    if i == 1:  # amph is in the hallway\n",
    "        room_free = all(d[(xi, xj)] in ('.', d[amph]) for xi, xj in d if xj == target_j and xi >= 2)\n",
    "        path_free = all(d[(i, xj)] == '.' for xj in range(target_j, j, int(np.sign(j-target_j))))\n",
    "        if room_free and path_free:\n",
    "            return [(max(xi for xi, xj in d if xj == target_j and d[(xi, xj)] == '.'), target_j)], True\n",
    "        else:\n",
    "            return [], False\n",
    "    # amph is in its room and has space to move\n",
    "    # it can move if there is at least one free spot on either side of its door\n",
    "    if d[(1, j+1)] == '.' or d[(1, j-1)] == '.':\n",
    "        options = []\n",
    "        ej = j-1\n",
    "        # explore left\n",
    "        while d.get((1, ej), '#') == '.':\n",
    "            if ej not in ROOM_j.values():\n",
    "                options.append((1, ej))\n",
    "            ej -= 1\n",
    "        ej = j+1\n",
    "        # explore right\n",
    "        while d.get((1, ej), '#') == '.':\n",
    "            if ej not in ROOM_j.values():\n",
    "                options.append((1, ej))\n",
    "            ej += 1\n",
    "        return sorted(options), False\n",
    "    return [], False\n",
    "        \n",
    "\n",
    "def all_options(d, verbose=False):\n",
    "    \"\"\"\n",
    "    Returns only one option if we can bring an amph home!\n",
    "    \"\"\"\n",
    "    res = {}\n",
    "    for amph in d:\n",
    "        options, HOME = can_move(amph, d)\n",
    "        if options != []:\n",
    "            res[amph] = options\n",
    "            if verbose: print(f\"{amph} can move --> {options}\" + (\" HOME!\" if HOME else \"\"))\n",
    "            if HOME:\n",
    "                return {amph: options}, True\n",
    "    if verbose:\n",
    "        print()\n",
    "        print_board(d)\n",
    "    return res, False\n",
    "\n",
    "def ballpark_left(d):\n",
    "    c = 0\n",
    "    not_home = [(i, j) for i, j in d if d[(i, j)] != '.' and j != ROOM_j[d[(i,j)]]]\n",
    "    for (i, j) in not_home:\n",
    "        n_moves = 1 + int(i >= 2) + max(0, i - 2) + abs(j - ROOM_j[d[(i, j)]])\n",
    "        c += n_moves * COST[d[(i, j)]]\n",
    "    return c\n",
    "\n",
    "class Exploration2:\n",
    "    def __init__(self, board_dict, max_cost=None, debug=False):\n",
    "        self.MIN_COST = max_cost if max_cost is not None else (ballpark_left(board_dict) + ballpark_left(board_dict) //2)\n",
    "        print(f\"Setting up exploration: max_cost={self.MIN_COST}\")\n",
    "        self.start_time = time.time()\n",
    "        self.printed = 0\n",
    "        self.explored = {}\n",
    "        self.explore(board_dict, debug)\n",
    "        print(self.MIN_COST)\n",
    "    \n",
    "    def explore(self, board_dict, debug=False, score_so_far=0):\n",
    "        new_time = round(time.time() - self.start_time)\n",
    "        hashed_board = hash_board(board_dict)\n",
    "        if hashed_board not in self.explored or self.explored[hashed_board] > score_so_far:\n",
    "            self.explored[hashed_board] = score_so_far\n",
    "        else:\n",
    "            return\n",
    "        if score_so_far + ballpark_left(board_dict) >= self.MIN_COST:\n",
    "            return\n",
    "        if debug: \n",
    "            print_board(board_dict)\n",
    "            print()\n",
    "        total_amph = len([1 for k in board_dict if board_dict[k] != '.'])\n",
    "        n_home = len([1 for i, j in board_dict if board_dict[(i, j)] != '.' and j == ROOM_j[board_dict[(i,j)]]])\n",
    "        if n_home == total_amph:\n",
    "            if debug: print(f\"solved! {score_so_far}!\")\n",
    "            print(f\"Improved cost: {score_so_far} - {new_time//60}min{new_time%60}s\")\n",
    "            self.MIN_COST = score_so_far\n",
    "            return\n",
    "        moves, home = all_options(board_dict)\n",
    "        if len(moves) == 0:\n",
    "            if debug: \n",
    "                print(f\"no more moves ({n_home}/{total_amph})\")\n",
    "            return\n",
    "        first = debug\n",
    "        for amph in sorted(moves.keys(), key=lambda k: COST[board_dict[k]], reverse=True): \n",
    "        # every amph that can move\n",
    "            options = moves[amph]\n",
    "            i, j = amph\n",
    "            for ti, tj in options:\n",
    "                new_board = board_dict.copy()\n",
    "                cost = (abs(ti-i) + abs(tj-j)) * COST[board_dict[amph]]\n",
    "                new_board[amph] = '.'\n",
    "                new_board[(ti, tj)] = board_dict[amph]\n",
    "                self.explore(new_board, debug=first, score_so_far=score_so_far+cost)\n",
    "                first = False\n",
    "        return"
   ]
  },
  {
   "cell_type": "code",
   "execution_count": 100,
   "metadata": {
    "scrolled": true
   },
   "outputs": [
    {
     "name": "stdout",
     "output_type": "stream",
     "text": [
      "Setting up exploration: max_cost=14000\n",
      "Improved cost: 13864 - 0min0s\n",
      "Improved cost: 13862 - 0min0s\n",
      "Improved cost: 13686 - 0min0s\n",
      "Improved cost: 13666 - 0min0s\n",
      "Improved cost: 13664 - 0min0s\n",
      "Improved cost: 13286 - 0min0s\n",
      "Improved cost: 13266 - 0min0s\n",
      "Improved cost: 13264 - 0min0s\n",
      "Improved cost: 13086 - 0min0s\n",
      "Improved cost: 13084 - 0min0s\n",
      "Improved cost: 13066 - 0min0s\n",
      "13066\n",
      "CPU times: user 2.48 s, sys: 8 ms, total: 2.49 s\n",
      "Wall time: 2.49 s\n"
     ]
    },
    {
     "data": {
      "text/plain": [
       "<__main__.Exploration2 at 0x7fc68efa3c10>"
      ]
     },
     "execution_count": 100,
     "metadata": {},
     "output_type": "execute_result"
    }
   ],
   "source": [
    "%%time\n",
    "Exploration2(inputs, max_cost=14000)"
   ]
  },
  {
   "cell_type": "code",
   "execution_count": 102,
   "metadata": {},
   "outputs": [
    {
     "name": "stdout",
     "output_type": "stream",
     "text": [
      "Setting up exploration: max_cost=70000\n",
      "Improved cost: 60880 - 0min8s\n",
      "Improved cost: 60680 - 0min8s\n",
      "Improved cost: 53298 - 0min8s\n",
      "Improved cost: 53278 - 0min8s\n",
      "Improved cost: 52898 - 0min8s\n",
      "Improved cost: 52878 - 0min8s\n",
      "Improved cost: 52698 - 0min8s\n",
      "Improved cost: 52678 - 0min8s\n",
      "Improved cost: 48328 - 0min11s\n",
      "Improved cost: 48128 - 0min11s\n",
      "Improved cost: 47728 - 0min14s\n",
      "Improved cost: 47528 - 0min14s\n",
      "Improved cost: 47328 - 0min14s\n",
      "47328\n",
      "CPU times: user 16.7 s, sys: 32 ms, total: 16.8 s\n",
      "Wall time: 17 s\n"
     ]
    },
    {
     "data": {
      "text/plain": [
       "<__main__.Exploration2 at 0x7fc68eb71490>"
      ]
     },
     "execution_count": 102,
     "metadata": {},
     "output_type": "execute_result"
    }
   ],
   "source": [
    "%%time\n",
    "Exploration2(inputs_new, max_cost=70000)"
   ]
  },
  {
   "cell_type": "code",
   "execution_count": null,
   "metadata": {},
   "outputs": [],
   "source": []
  }
 ],
 "metadata": {
  "kernelspec": {
   "display_name": "Python 3",
   "language": "python",
   "name": "python3"
  },
  "language_info": {
   "codemirror_mode": {
    "name": "ipython",
    "version": 3
   },
   "file_extension": ".py",
   "mimetype": "text/x-python",
   "name": "python",
   "nbconvert_exporter": "python",
   "pygments_lexer": "ipython3",
   "version": "3.8.10"
  }
 },
 "nbformat": 4,
 "nbformat_minor": 2
}
