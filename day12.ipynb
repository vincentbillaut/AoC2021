{
 "cells": [
  {
   "cell_type": "markdown",
   "metadata": {},
   "source": [
    "### Day 12"
   ]
  },
  {
   "cell_type": "code",
   "execution_count": 1,
   "metadata": {},
   "outputs": [],
   "source": [
    "import numpy as np\n",
    "from collections import defaultdict, Counter"
   ]
  },
  {
   "cell_type": "code",
   "execution_count": 2,
   "metadata": {},
   "outputs": [],
   "source": [
    "day_i = 12"
   ]
  },
  {
   "cell_type": "code",
   "execution_count": 3,
   "metadata": {},
   "outputs": [
    {
     "name": "stdout",
     "output_type": "stream",
     "text": [
      "Initializing day 12\n"
     ]
    }
   ],
   "source": [
    "%run start_day.py $day_i"
   ]
  },
  {
   "cell_type": "code",
   "execution_count": 4,
   "metadata": {},
   "outputs": [
    {
     "name": "stdout",
     "output_type": "stream",
     "text": [
      "/home/vincent/Documents/AdventOfCode/2021\n"
     ]
    }
   ],
   "source": [
    "cd /home/vincent/Documents/AdventOfCode/2021"
   ]
  },
  {
   "cell_type": "code",
   "execution_count": 5,
   "metadata": {},
   "outputs": [],
   "source": [
    "PATH = f\"day{day_i}/input{day_i}\""
   ]
  },
  {
   "cell_type": "code",
   "execution_count": 6,
   "metadata": {},
   "outputs": [
    {
     "name": "stdout",
     "output_type": "stream",
     "text": [
      "24 day12/input12\r\n"
     ]
    }
   ],
   "source": [
    "!wc -l $PATH"
   ]
  },
  {
   "cell_type": "code",
   "execution_count": 7,
   "metadata": {},
   "outputs": [
    {
     "name": "stdout",
     "output_type": "stream",
     "text": [
      "LA-sn\r\n",
      "LA-mo\r\n",
      "LA-zs\r\n",
      "end-RD\r\n",
      "sn-mo\r\n",
      "end-zs\r\n",
      "vx-start\r\n",
      "mh-mo\r\n",
      "mh-start\r\n",
      "zs-JI\r\n"
     ]
    }
   ],
   "source": [
    "!head $PATH"
   ]
  },
  {
   "cell_type": "code",
   "execution_count": null,
   "metadata": {},
   "outputs": [],
   "source": [
    "!tail $PATH"
   ]
  },
  {
   "cell_type": "code",
   "execution_count": 16,
   "metadata": {},
   "outputs": [],
   "source": [
    "def parse_input(inp):\n",
    "    l = [s.split('-') for s in inp if s.strip() != '']\n",
    "    neighbors = defaultdict(list)\n",
    "    for pair in l:\n",
    "        x, y = pair[0], pair[1]\n",
    "        neighbors[x].append(y)\n",
    "        neighbors[y].append(x)\n",
    "    return neighbors"
   ]
  },
  {
   "cell_type": "code",
   "execution_count": 18,
   "metadata": {},
   "outputs": [],
   "source": [
    "# real input\n",
    "with open(PATH, 'r') as f:\n",
    "    neighbors0 = parse_input([x.strip() for x in f.readlines()])"
   ]
  },
  {
   "cell_type": "code",
   "execution_count": 19,
   "metadata": {},
   "outputs": [],
   "source": [
    "# test input\n",
    "test_str1 = \"\"\"start-A\n",
    "start-b\n",
    "A-c\n",
    "A-b\n",
    "b-d\n",
    "A-end\n",
    "b-end\n",
    "\"\"\"\n",
    "\n",
    "test_str2 = \"\"\"dc-end\n",
    "HN-start\n",
    "start-kj\n",
    "dc-start\n",
    "dc-HN\n",
    "LN-dc\n",
    "HN-end\n",
    "kj-sa\n",
    "kj-HN\n",
    "kj-dc\"\"\"\n",
    "\n",
    "test_str3 = \"\"\"fs-end\n",
    "he-DX\n",
    "fs-he\n",
    "start-DX\n",
    "pj-DX\n",
    "end-zg\n",
    "zg-sl\n",
    "zg-pj\n",
    "pj-he\n",
    "RW-he\n",
    "fs-DX\n",
    "pj-RW\n",
    "zg-RW\n",
    "start-pj\n",
    "he-WI\n",
    "zg-he\n",
    "pj-fs\n",
    "start-RW\"\"\"\n",
    "\n",
    "neighbors1 = parse_input(test_str1.split('\\n'))\n",
    "neighbors2 = parse_input(test_str2.split('\\n'))\n",
    "neighbors3 = parse_input(test_str3.split('\\n'))"
   ]
  },
  {
   "cell_type": "code",
   "execution_count": 20,
   "metadata": {},
   "outputs": [
    {
     "data": {
      "text/plain": [
       "defaultdict(list,\n",
       "            {'start': ['A', 'b'],\n",
       "             'A': ['start', 'c', 'b', 'end'],\n",
       "             'b': ['start', 'A', 'd', 'end'],\n",
       "             'c': ['A'],\n",
       "             'd': ['b'],\n",
       "             'end': ['A', 'b']})"
      ]
     },
     "execution_count": 20,
     "metadata": {},
     "output_type": "execute_result"
    }
   ],
   "source": [
    "neighbors1"
   ]
  },
  {
   "cell_type": "code",
   "execution_count": 47,
   "metadata": {},
   "outputs": [],
   "source": [
    "def walk(depart, visited, nbs):\n",
    "    new_visited = visited + [depart]\n",
    "    if depart == 'end':\n",
    "        return [new_visited]\n",
    "    else:\n",
    "        total = []\n",
    "        for n in nbs[depart]:\n",
    "            if n == n.upper() or n not in visited:\n",
    "                total.extend(walk(n, new_visited, nbs))\n",
    "        return total\n",
    "\n",
    "def walk2(depart, visited, nbs):\n",
    "    new_visited = visited + [depart]\n",
    "    if depart == 'end':\n",
    "        return 1\n",
    "    else:\n",
    "        total = 0\n",
    "        for n in nbs[depart]:\n",
    "            counts = Counter([x for x in new_visited if x.upper() != x])\n",
    "            if n == n.upper() or n not in visited:\n",
    "                total += walk2(n, new_visited, nbs)\n",
    "            elif n != 'start' and counts[n] == 1 and max(counts.values()) == 1:\n",
    "                total += walk2(n, new_visited, nbs)\n",
    "        return total\n",
    "\n",
    "def solve1(nbs):\n",
    "    ways = walk('start', [], nbs)\n",
    "#     print('\\n'.join([','.join(x) for x in ways]))\n",
    "    return len(ways)\n",
    "\n",
    "def solve2(nbs):\n",
    "    return walk2('start', [], nbs)"
   ]
  },
  {
   "cell_type": "code",
   "execution_count": 27,
   "metadata": {},
   "outputs": [
    {
     "name": "stdout",
     "output_type": "stream",
     "text": [
      "10\n",
      "19\n",
      "226\n"
     ]
    }
   ],
   "source": [
    "print(solve1(neighbors1))\n",
    "print(solve1(neighbors2))\n",
    "print(solve1(neighbors3))"
   ]
  },
  {
   "cell_type": "code",
   "execution_count": 28,
   "metadata": {
    "scrolled": true
   },
   "outputs": [
    {
     "name": "stdout",
     "output_type": "stream",
     "text": [
      "4970\n"
     ]
    }
   ],
   "source": [
    "print(solve1(neighbors0))"
   ]
  },
  {
   "cell_type": "code",
   "execution_count": 48,
   "metadata": {},
   "outputs": [
    {
     "name": "stdout",
     "output_type": "stream",
     "text": [
      "36\n",
      "103\n",
      "3509\n"
     ]
    }
   ],
   "source": [
    "print(solve2(neighbors1))\n",
    "print(solve2(neighbors2))\n",
    "print(solve2(neighbors3))"
   ]
  },
  {
   "cell_type": "code",
   "execution_count": 49,
   "metadata": {
    "scrolled": true
   },
   "outputs": [
    {
     "name": "stdout",
     "output_type": "stream",
     "text": [
      "137948\n"
     ]
    }
   ],
   "source": [
    "print(solve2(neighbors0))"
   ]
  },
  {
   "cell_type": "code",
   "execution_count": null,
   "metadata": {},
   "outputs": [],
   "source": []
  }
 ],
 "metadata": {
  "kernelspec": {
   "display_name": "Python 3",
   "language": "python",
   "name": "python3"
  },
  "language_info": {
   "codemirror_mode": {
    "name": "ipython",
    "version": 3
   },
   "file_extension": ".py",
   "mimetype": "text/x-python",
   "name": "python",
   "nbconvert_exporter": "python",
   "pygments_lexer": "ipython3",
   "version": "3.8.10"
  }
 },
 "nbformat": 4,
 "nbformat_minor": 2
}
