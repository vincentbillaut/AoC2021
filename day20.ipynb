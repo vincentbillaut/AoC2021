{
 "cells": [
  {
   "cell_type": "markdown",
   "metadata": {},
   "source": [
    "### Day 20"
   ]
  },
  {
   "cell_type": "code",
   "execution_count": 1,
   "metadata": {},
   "outputs": [],
   "source": [
    "import numpy as np\n",
    "from collections import defaultdict, Counter"
   ]
  },
  {
   "cell_type": "code",
   "execution_count": 2,
   "metadata": {},
   "outputs": [],
   "source": [
    "day_i = 20"
   ]
  },
  {
   "cell_type": "code",
   "execution_count": 3,
   "metadata": {},
   "outputs": [
    {
     "name": "stdout",
     "output_type": "stream",
     "text": [
      "Initializing day 20\n"
     ]
    }
   ],
   "source": [
    "%run start_day.py $day_i"
   ]
  },
  {
   "cell_type": "code",
   "execution_count": 4,
   "metadata": {},
   "outputs": [
    {
     "name": "stdout",
     "output_type": "stream",
     "text": [
      "/home/vincent/Documents/AdventOfCode/2021\n"
     ]
    }
   ],
   "source": [
    "cd /home/vincent/Documents/AdventOfCode/2021"
   ]
  },
  {
   "cell_type": "code",
   "execution_count": 5,
   "metadata": {},
   "outputs": [],
   "source": [
    "PATH = f\"day{day_i}/input{day_i}\""
   ]
  },
  {
   "cell_type": "code",
   "execution_count": 6,
   "metadata": {},
   "outputs": [
    {
     "name": "stdout",
     "output_type": "stream",
     "text": [
      "102 day20/input20\r\n"
     ]
    }
   ],
   "source": [
    "!wc -l $PATH"
   ]
  },
  {
   "cell_type": "code",
   "execution_count": 7,
   "metadata": {},
   "outputs": [
    {
     "name": "stdout",
     "output_type": "stream",
     "text": [
      "##..#.#...##.####..#..###.#.#.#.#.####.#.##.....#####.##..#..#.#.##.......##.##.#.#...#....#.####..#.##.##....###..##.#####.##....##.#.#.#.#....####...##.#......#.#..##......##..#..###.#..####.###...##.#.##.#..##.##..#.#.#..###..##.####.#.#.#..#.##...#..##...##.#####..##.##..#...#..###.#.#...#..#..##...#.#..........#...#...#.#.#.#..#.###..##....####..#######.##.#.....#.#.###...##...###...#.##.##.##..#......#.###...#.#.#.#...##.#.#.##.#..###.#...##...##.......####.##..#.#....#.#####..#..#####.#.....#....#.#.\r\n",
      "\r\n",
      ".##.#...##..##.#..........#####..#.##..######.##..#....#..#####.#.#####.#..#...#..#####..#.......##.\r\n",
      ".#.#.#.#####..##.#.###..#.##.##.......#.####.#............#.#....####..#.#####.##.##.#.###..#..##...\r\n",
      ".##.#.#...##....#.#..#...........##.#.#..#####...#..##.###..##.###..........#####..##..##.#.####....\r\n",
      "##..####.####.###.......#....#.#####.##...#....###...##...###...#...##..####....####..#####..##..###\r\n",
      "...###.##.....#......###.#.###..#..###...#.#..#.#######.##..#..#..#..##.##..#####.#####.###...#.###.\r\n",
      "##.###.#....##..####.#..#.###.##.#.##..#...#...###.###.#..#..#.#.###.##.#..###.#.###....###.###.....\r\n",
      "#.#.##..#.....#.....##....######...#........#.#.#.#.######..#...##.#.######...#.##########..#.###..#\r\n",
      ".##.#...##.#......###..####.##.#...#..##.#.####...##..####..#####..##.###.#.###...#.#.######.#.#####\r\n"
     ]
    }
   ],
   "source": [
    "!head $PATH"
   ]
  },
  {
   "cell_type": "code",
   "execution_count": 8,
   "metadata": {},
   "outputs": [
    {
     "name": "stdout",
     "output_type": "stream",
     "text": [
      "##.#.####....##..##..####.#######..##....######.##.#....#..#...#.#..#.##.#...#.#.#.#.#..###....#.#.#\r\n",
      ".##.###..#.###..##...####.###.#.##.###.#...#..#......######.##.##.##.####.##.##....#.#......####.#.#\r\n",
      "#..###.####.#...#.###.###.#..##.###..#.#.#####..#.##.##.#.##.##..###.####...####..#..###...#.##.####\r\n",
      "#...............#.##.###...#..#..#.##.##.#.##.#.#...#.#....#..#.######..#..#..##....#.##..#..#..#.##\r\n",
      "###.###...#...#..#....##.......#.#..#...##...#....#..######..#.....##.####..#....#...##...######..##\r\n",
      "..##..#..##.#.##..###.#...............####...##..##......#...#.....#..#....#.#...#.....##..#####..##\r\n",
      "#.....##.#.##.###......###.#.##..###....###..#...#..###.#..#..##...#..#.##...#.#...#..#.....##...#.#\r\n",
      "..##....#..#.#.#.####..#.#.#....#.#.#.#.##.#..#.#..#..#.#.##.####......##..#...##..#.#.##..#.....#..\r\n",
      ".#..##....###.###..##....#####.#....####....#.#.##..#...#.###.##..#.....##........###.###.####..#.#.\r\n",
      ".###.##..#..#...#.#.#######.##.#.#.#.#.###.#.#.#.#......#####.###.#.#.#......#.#..#.#.##..#.##.#.#.#\r\n"
     ]
    }
   ],
   "source": [
    "!tail $PATH"
   ]
  },
  {
   "cell_type": "code",
   "execution_count": 90,
   "metadata": {},
   "outputs": [],
   "source": [
    "def parse_input(inp):\n",
    "    for i, x in enumerate(inp):\n",
    "        if x == \"\":\n",
    "            algo = inp[:i]\n",
    "            image = inp[i+1:]\n",
    "            break\n",
    "    algo_row = ''.join(algo)\n",
    "    algo_indices = set(i for i in range(len(algo_row)) if algo_row[i] == '#')\n",
    "    image_dict = {}\n",
    "    for i, r in enumerate(image):\n",
    "        for j in range(len(r)):\n",
    "            image_dict[(i, j)] = int(r[j] == \"#\")\n",
    "    return algo_indices, image_dict"
   ]
  },
  {
   "cell_type": "code",
   "execution_count": 91,
   "metadata": {},
   "outputs": [],
   "source": [
    "# real input\n",
    "with open(PATH, 'r') as f:\n",
    "    inputs = parse_input([x.strip() for x in f.readlines()])\n"
   ]
  },
  {
   "cell_type": "code",
   "execution_count": 92,
   "metadata": {},
   "outputs": [],
   "source": [
    "# test input\n",
    "test_str1 = \"\"\"..#.#..#####.#.#.#.###.##.....###.##.#..###.####..#####..#....#..#..##..##\n",
    "#..######.###...####..#..#####..##..#.#####...##.#.#..#.##..#.#......#.###\n",
    ".######.###.####...#.##.##..#..#..#####.....#.#....###..#.##......#.....#.\n",
    ".#..#..##..#...##.######.####.####.#.#...#.......#..#.#.#...####.##.#.....\n",
    ".#..#...##.#.##..#...##.#.##..###.#......#.#.......#.#.#.####.###.##...#..\n",
    "...####.#..#..#.##.#....##..#.####....##...##..#...#......#.#.......#.....\n",
    "..##..####..#...#.#.#...##..#.#..###..#####........#..####......#..#\n",
    "\n",
    "#..#.\n",
    "#....\n",
    "##..#\n",
    "..#..\n",
    "..###\"\"\"\n",
    "\n",
    "inputs_1 = parse_input(test_str1.split('\\n'))"
   ]
  },
  {
   "cell_type": "code",
   "execution_count": 93,
   "metadata": {},
   "outputs": [
    {
     "data": {
      "text/plain": [
       "{(0, 0): 1,\n",
       " (0, 1): 0,\n",
       " (0, 2): 0,\n",
       " (0, 3): 1,\n",
       " (0, 4): 0,\n",
       " (1, 0): 1,\n",
       " (1, 1): 0,\n",
       " (1, 2): 0,\n",
       " (1, 3): 0,\n",
       " (1, 4): 0,\n",
       " (2, 0): 1,\n",
       " (2, 1): 1,\n",
       " (2, 2): 0,\n",
       " (2, 3): 0,\n",
       " (2, 4): 1,\n",
       " (3, 0): 0,\n",
       " (3, 1): 0,\n",
       " (3, 2): 1,\n",
       " (3, 3): 0,\n",
       " (3, 4): 0,\n",
       " (4, 0): 0,\n",
       " (4, 1): 0,\n",
       " (4, 2): 1,\n",
       " (4, 3): 1,\n",
       " (4, 4): 1}"
      ]
     },
     "execution_count": 93,
     "metadata": {},
     "output_type": "execute_result"
    }
   ],
   "source": [
    "inputs_1[1]"
   ]
  },
  {
   "cell_type": "code",
   "execution_count": 95,
   "metadata": {},
   "outputs": [
    {
     "data": {
      "text/plain": [
       "array([256, 128,  64,  32,  16,   8,   4,   2,   1])"
      ]
     },
     "execution_count": 95,
     "metadata": {},
     "output_type": "execute_result"
    }
   ],
   "source": [
    "2 ** np.arange(8, -1, -1)"
   ]
  },
  {
   "cell_type": "code",
   "execution_count": 105,
   "metadata": {},
   "outputs": [],
   "source": [
    "CHAR = ['.', '#']\n",
    "POWERS = 2 ** np.arange(8, -1, -1)\n",
    "\n",
    "def print_image(image, fill_value=0):\n",
    "    image_dict = image.copy()\n",
    "    mx, Mx = min([x for x, _ in image_dict]), max([x for x, _ in image_dict])\n",
    "    my, My = min([y for _, y in image_dict]), max([y for _, y in image_dict])\n",
    "    for i in range(mx-2, Mx+3):\n",
    "        s = ''.join([CHAR[image_dict.get((i, j), fill_value)] for j in range(my-2, My+3)])\n",
    "        print(s)\n",
    "        \n",
    "\n",
    "def one_step(algo_idx, image_dict, fill_value=0):\n",
    "    mx, Mx = min([x for x, _ in image_dict]), max([x for x, _ in image_dict])\n",
    "    my, My = min([y for _, y in image_dict]), max([y for _, y in image_dict])\n",
    "    \n",
    "    new_dict = {}\n",
    "    for i in range(mx-2, Mx+3):\n",
    "        for j in range(my-2, My+3):\n",
    "            surrounding = []\n",
    "            surrounding.append(image_dict.get((i-1, j-1), fill_value))\n",
    "            surrounding.append(image_dict.get((i-1, j), fill_value))\n",
    "            surrounding.append(image_dict.get((i-1, j+1), fill_value))\n",
    "            surrounding.append(image_dict.get((i, j-1), fill_value))\n",
    "            surrounding.append(image_dict.get((i, j), fill_value))\n",
    "            surrounding.append(image_dict.get((i, j+1), fill_value))\n",
    "            surrounding.append(image_dict.get((i+1, j-1), fill_value))\n",
    "            surrounding.append(image_dict.get((i+1, j), fill_value))\n",
    "            surrounding.append(image_dict.get((i+1, j+1), fill_value))\n",
    "            value = int(np.sum(np.array(surrounding) * POWERS))\n",
    "            new_dict[(i, j)] = int(value in algo_idx)\n",
    "    return new_dict\n",
    "\n",
    "def solve(inp, n):\n",
    "    algo_idx, image = inp\n",
    "    value = 0\n",
    "    for i in range(n):\n",
    "        if 0 in algo_idx and 511 not in algo_idx:\n",
    "            value = i % 2\n",
    "#         print(i, value)\n",
    "        image = one_step(algo_idx, image, fill_value=value)\n",
    "    return sum(image.values())"
   ]
  },
  {
   "cell_type": "code",
   "execution_count": 100,
   "metadata": {},
   "outputs": [
    {
     "name": "stdout",
     "output_type": "stream",
     "text": [
      ".........\n",
      ".........\n",
      "..#..#...\n",
      "..#......\n",
      "..##..#..\n",
      "....#....\n",
      "....###..\n",
      ".........\n",
      ".........\n"
     ]
    }
   ],
   "source": [
    "print_image(inputs_1[1])"
   ]
  },
  {
   "cell_type": "code",
   "execution_count": 101,
   "metadata": {},
   "outputs": [
    {
     "name": "stdout",
     "output_type": "stream",
     "text": [
      ".............\n",
      ".............\n",
      ".............\n",
      "....##.##....\n",
      "...#..#.#....\n",
      "...##.#..#...\n",
      "...####..#...\n",
      "....#..##....\n",
      ".....##..#...\n",
      "......#.#....\n",
      ".............\n",
      ".............\n",
      ".............\n",
      ".................\n",
      ".................\n",
      ".................\n",
      ".................\n",
      "...........#.....\n",
      ".....#..#.#......\n",
      "....#.#...###....\n",
      "....#...##.#.....\n",
      "....#.....#.#....\n",
      ".....#.#####.....\n",
      "......#.#####....\n",
      ".......##.##.....\n",
      "........###......\n",
      ".................\n",
      ".................\n",
      ".................\n",
      ".................\n"
     ]
    }
   ],
   "source": [
    "test_image = one_step(*inputs_1)\n",
    "print_image(test_image)\n",
    "test_image2 = one_step(inputs_1[0], test_image)\n",
    "print_image(test_image2)"
   ]
  },
  {
   "cell_type": "code",
   "execution_count": 102,
   "metadata": {},
   "outputs": [
    {
     "name": "stdout",
     "output_type": "stream",
     "text": [
      "0 0\n",
      "1 0\n"
     ]
    },
    {
     "data": {
      "text/plain": [
       "35"
      ]
     },
     "execution_count": 102,
     "metadata": {},
     "output_type": "execute_result"
    }
   ],
   "source": [
    "solve(inputs_1, 2)"
   ]
  },
  {
   "cell_type": "code",
   "execution_count": 103,
   "metadata": {
    "scrolled": false
   },
   "outputs": [
    {
     "name": "stdout",
     "output_type": "stream",
     "text": [
      "0 0\n",
      "1 1\n"
     ]
    },
    {
     "data": {
      "text/plain": [
       "4968"
      ]
     },
     "execution_count": 103,
     "metadata": {},
     "output_type": "execute_result"
    }
   ],
   "source": [
    "solve(inputs, 2)"
   ]
  },
  {
   "cell_type": "code",
   "execution_count": null,
   "metadata": {},
   "outputs": [],
   "source": [
    "# 4962 too low"
   ]
  },
  {
   "cell_type": "code",
   "execution_count": 107,
   "metadata": {},
   "outputs": [
    {
     "name": "stdout",
     "output_type": "stream",
     "text": [
      "CPU times: user 5.89 s, sys: 0 ns, total: 5.89 s\n",
      "Wall time: 5.89 s\n"
     ]
    },
    {
     "data": {
      "text/plain": [
       "3351"
      ]
     },
     "execution_count": 107,
     "metadata": {},
     "output_type": "execute_result"
    }
   ],
   "source": [
    "%%time\n",
    "solve(inputs_1, 50)"
   ]
  },
  {
   "cell_type": "code",
   "execution_count": 109,
   "metadata": {},
   "outputs": [
    {
     "name": "stdout",
     "output_type": "stream",
     "text": [
      "CPU times: user 17.6 s, sys: 27.4 ms, total: 17.6 s\n",
      "Wall time: 17.7 s\n"
     ]
    },
    {
     "data": {
      "text/plain": [
       "16793"
      ]
     },
     "execution_count": 109,
     "metadata": {},
     "output_type": "execute_result"
    }
   ],
   "source": [
    "%%time\n",
    "solve(inputs, 50)"
   ]
  },
  {
   "cell_type": "code",
   "execution_count": null,
   "metadata": {},
   "outputs": [],
   "source": []
  }
 ],
 "metadata": {
  "kernelspec": {
   "display_name": "Python 3",
   "language": "python",
   "name": "python3"
  },
  "language_info": {
   "codemirror_mode": {
    "name": "ipython",
    "version": 3
   },
   "file_extension": ".py",
   "mimetype": "text/x-python",
   "name": "python",
   "nbconvert_exporter": "python",
   "pygments_lexer": "ipython3",
   "version": "3.8.10"
  }
 },
 "nbformat": 4,
 "nbformat_minor": 2
}
