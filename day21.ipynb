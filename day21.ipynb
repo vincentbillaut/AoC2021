{
 "cells": [
  {
   "cell_type": "markdown",
   "metadata": {},
   "source": [
    "### Day 21"
   ]
  },
  {
   "cell_type": "code",
   "execution_count": 1,
   "metadata": {},
   "outputs": [],
   "source": [
    "import numpy as np\n",
    "from collections import defaultdict, Counter"
   ]
  },
  {
   "cell_type": "code",
   "execution_count": 2,
   "metadata": {},
   "outputs": [],
   "source": [
    "day_i = 21"
   ]
  },
  {
   "cell_type": "code",
   "execution_count": 3,
   "metadata": {},
   "outputs": [
    {
     "name": "stdout",
     "output_type": "stream",
     "text": [
      "Initializing day 21\n"
     ]
    }
   ],
   "source": [
    "%run start_day.py $day_i"
   ]
  },
  {
   "cell_type": "code",
   "execution_count": 4,
   "metadata": {},
   "outputs": [
    {
     "name": "stdout",
     "output_type": "stream",
     "text": [
      "/home/vincent/Documents/AdventOfCode/2021\n"
     ]
    }
   ],
   "source": [
    "cd /home/vincent/Documents/AdventOfCode/2021"
   ]
  },
  {
   "cell_type": "code",
   "execution_count": 5,
   "metadata": {},
   "outputs": [],
   "source": [
    "PATH = f\"day{day_i}/input{day_i}\""
   ]
  },
  {
   "cell_type": "code",
   "execution_count": 6,
   "metadata": {},
   "outputs": [
    {
     "name": "stdout",
     "output_type": "stream",
     "text": [
      "2 day21/input21\r\n"
     ]
    }
   ],
   "source": [
    "!wc -l $PATH"
   ]
  },
  {
   "cell_type": "code",
   "execution_count": 7,
   "metadata": {},
   "outputs": [
    {
     "name": "stdout",
     "output_type": "stream",
     "text": [
      "Player 1 starting position: 10\r\n",
      "Player 2 starting position: 6\r\n"
     ]
    }
   ],
   "source": [
    "!head $PATH"
   ]
  },
  {
   "cell_type": "code",
   "execution_count": 8,
   "metadata": {},
   "outputs": [
    {
     "name": "stdout",
     "output_type": "stream",
     "text": [
      "Player 1 starting position: 10\r\n",
      "Player 2 starting position: 6\r\n"
     ]
    }
   ],
   "source": [
    "!tail $PATH"
   ]
  },
  {
   "cell_type": "code",
   "execution_count": 9,
   "metadata": {},
   "outputs": [],
   "source": [
    "inputs = (10, 6)\n",
    "inputs_1 = (4, 8)"
   ]
  },
  {
   "cell_type": "code",
   "execution_count": 121,
   "metadata": {},
   "outputs": [],
   "source": [
    "def loop(v):\n",
    "    if v > 100:\n",
    "        return v % 100\n",
    "    else: return v\n",
    "    \n",
    "def roll_die(die):\n",
    "    value = loop(die + 1) + loop(die + 2) + loop(die + 3)\n",
    "    return value, loop(die + 3)\n",
    "\n",
    "def solve1(inp):\n",
    "    die = n_die = 0\n",
    "    p1, p2 = inp\n",
    "    s1 = s2 = 0\n",
    "    while s1 < 1000 and s2 < 1000:\n",
    "        move1, die = roll_die(die)\n",
    "        p1 = 10 if (p1 + move1) % 10 == 0 else (p1 + move1) % 10\n",
    "        s1 += p1\n",
    "        n_die += 3\n",
    "        if s1 >= 1000:\n",
    "            return s2 * n_die\n",
    "        move2, die = roll_die(die)\n",
    "        p2 = 10 if (p2 + move2) % 10 == 0 else (p2 + move2) % 10\n",
    "        s2 += p2\n",
    "        n_die += 3\n",
    "    return s1 * n_die\n",
    "\n",
    "outcomes = {\n",
    "    3: 1,\n",
    "    4: 3,\n",
    "    5: 6,\n",
    "    6: 7,\n",
    "    7: 6,\n",
    "    8: 3,\n",
    "    9: 1\n",
    "}\n",
    "\n",
    "def play_turn(scores):\n",
    "    turn_to_play = max(t for _, _, t in scores)\n",
    "    new_scores = scores.copy()\n",
    "    updated = False\n",
    "    for (pos, sco, turn), uni in scores.items():\n",
    "        if turn == turn_to_play and sco < 21:\n",
    "            updated = True\n",
    "            for roll, mult in outcomes.items():\n",
    "                new_pos = 10 if (pos + roll) % 10 == 0 else (pos + roll) % 10\n",
    "                new_sco = sco + new_pos\n",
    "                new_scores[(new_pos, new_sco, turn + 1)] += uni * mult\n",
    "    return new_scores, updated\n",
    "\n",
    "def solve2(inp):\n",
    "    \"\"\"\n",
    "    returns:\n",
    "    - number of wins by 1\n",
    "    - number of wins by 2\n",
    "    - who wins most\n",
    "    \"\"\"\n",
    "    p1, p2 = inp\n",
    "    # PLAYING GAMES\n",
    "    s1 = defaultdict(int)\n",
    "    s2 = defaultdict(int)\n",
    "    s1[(p1, 0, 0)] = 1  # position, score, turn\n",
    "    s2[(p2, 0, 0)] = 1\n",
    "    # all games in all universes are played for both players independently\n",
    "    # we keep the intermediate states as well\n",
    "    # player 1\n",
    "    s1, updated1 = play_turn(s1)\n",
    "    while updated1:\n",
    "        s1, updated1 = play_turn(s1)\n",
    "    # player 2\n",
    "    s2, updated2 = play_turn(s2)\n",
    "    while updated2:\n",
    "        s2, updated2 = play_turn(s2)\n",
    "    # COUNTING WINS\n",
    "    wins1 = wins2 = 0\n",
    "    wins_by_1_by_turn = {}\n",
    "    wins_by_2_by_turn = {}\n",
    "    max_turns = max(t for _, _, t in list(s1.keys()) + list(s2.keys()))\n",
    "    # for each turn we count the number of universes in which each player wins the game \n",
    "    # (independently from the other)\n",
    "    for t in range(2, max_turns + 1):\n",
    "        wins_by_1_by_turn[t] = sum(s1[k] for k in s1 if k[2] == t and k[1] >= 21)\n",
    "        wins_by_2_by_turn[t] = sum(s2[k] for k in s2 if k[2] == t and k[1] >= 21)\n",
    "    # then we can just find the total number of universes in which each player wins the game at each turn\n",
    "    # and add them up\n",
    "    for t in range(2, max_turns + 1):\n",
    "        if wins_by_1_by_turn[t] > 0:\n",
    "            wins1 += wins_by_1_by_turn[t] * sum(s2[k] for k in s2 if k[2] == t-1 and k[1] < 21)\n",
    "        if wins_by_2_by_turn[t] > 0:\n",
    "            wins2 += wins_by_2_by_turn[t] * sum(s1[k] for k in s1 if k[2] == t and k[1] < 21)\n",
    "        \n",
    "    return wins1, wins2, int(wins2 > wins1) + 1\n",
    "        "
   ]
  },
  {
   "cell_type": "code",
   "execution_count": 115,
   "metadata": {
    "scrolled": true
   },
   "outputs": [
    {
     "data": {
      "text/plain": [
       "739785"
      ]
     },
     "execution_count": 115,
     "metadata": {},
     "output_type": "execute_result"
    }
   ],
   "source": [
    "solve1(inputs_1)"
   ]
  },
  {
   "cell_type": "code",
   "execution_count": 116,
   "metadata": {},
   "outputs": [
    {
     "data": {
      "text/plain": [
       "900099"
      ]
     },
     "execution_count": 116,
     "metadata": {},
     "output_type": "execute_result"
    }
   ],
   "source": [
    "solve1(inputs)"
   ]
  },
  {
   "cell_type": "code",
   "execution_count": 122,
   "metadata": {
    "scrolled": false
   },
   "outputs": [
    {
     "data": {
      "text/plain": [
       "(444356092776315, 341960390180808, 1)"
      ]
     },
     "execution_count": 122,
     "metadata": {},
     "output_type": "execute_result"
    }
   ],
   "source": [
    "solve2(inputs_1)"
   ]
  },
  {
   "cell_type": "code",
   "execution_count": 123,
   "metadata": {},
   "outputs": [
    {
     "data": {
      "text/plain": [
       "(306719685234774, 145727874122839, 1)"
      ]
     },
     "execution_count": 123,
     "metadata": {},
     "output_type": "execute_result"
    }
   ],
   "source": [
    "solve2(inputs)"
   ]
  },
  {
   "cell_type": "code",
   "execution_count": null,
   "metadata": {},
   "outputs": [],
   "source": []
  }
 ],
 "metadata": {
  "kernelspec": {
   "display_name": "Python 3",
   "language": "python",
   "name": "python3"
  },
  "language_info": {
   "codemirror_mode": {
    "name": "ipython",
    "version": 3
   },
   "file_extension": ".py",
   "mimetype": "text/x-python",
   "name": "python",
   "nbconvert_exporter": "python",
   "pygments_lexer": "ipython3",
   "version": "3.8.10"
  }
 },
 "nbformat": 4,
 "nbformat_minor": 2
}
