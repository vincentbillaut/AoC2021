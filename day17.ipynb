{
 "cells": [
  {
   "cell_type": "markdown",
   "metadata": {},
   "source": [
    "### Day 17"
   ]
  },
  {
   "cell_type": "code",
   "execution_count": 8,
   "metadata": {},
   "outputs": [],
   "source": [
    "import numpy as np\n",
    "import re\n",
    "from collections import defaultdict, Counter"
   ]
  },
  {
   "cell_type": "code",
   "execution_count": 2,
   "metadata": {},
   "outputs": [],
   "source": [
    "day_i = 17"
   ]
  },
  {
   "cell_type": "code",
   "execution_count": 3,
   "metadata": {},
   "outputs": [
    {
     "name": "stdout",
     "output_type": "stream",
     "text": [
      "Initializing day 17\n"
     ]
    }
   ],
   "source": [
    "%run start_day.py $day_i"
   ]
  },
  {
   "cell_type": "code",
   "execution_count": 4,
   "metadata": {},
   "outputs": [
    {
     "name": "stdout",
     "output_type": "stream",
     "text": [
      "/home/vincent/Documents/AdventOfCode/2021\n"
     ]
    }
   ],
   "source": [
    "cd /home/vincent/Documents/AdventOfCode/2021"
   ]
  },
  {
   "cell_type": "code",
   "execution_count": 5,
   "metadata": {},
   "outputs": [],
   "source": [
    "PATH = f\"day{day_i}/input{day_i}\""
   ]
  },
  {
   "cell_type": "code",
   "execution_count": 6,
   "metadata": {},
   "outputs": [
    {
     "name": "stdout",
     "output_type": "stream",
     "text": [
      "1 day17/input17\r\n"
     ]
    }
   ],
   "source": [
    "!wc -l $PATH"
   ]
  },
  {
   "cell_type": "code",
   "execution_count": 7,
   "metadata": {},
   "outputs": [
    {
     "name": "stdout",
     "output_type": "stream",
     "text": [
      "target area: x=85..145, y=-163..-108\r\n"
     ]
    }
   ],
   "source": [
    "!head $PATH"
   ]
  },
  {
   "cell_type": "code",
   "execution_count": null,
   "metadata": {},
   "outputs": [],
   "source": [
    "!tail $PATH"
   ]
  },
  {
   "cell_type": "code",
   "execution_count": 12,
   "metadata": {},
   "outputs": [],
   "source": [
    "def parse_input(inp):\n",
    "    bounds_search = re.search(r\"target area: x=(-?\\d+)\\.\\.(-?\\d+), y=(-?\\d+)\\.\\.(-?\\d+)\", inp[0])\n",
    "    xmin, xmax = bounds_search.group(1), bounds_search.group(2)\n",
    "    ymin, ymax = bounds_search.group(3), bounds_search.group(4)\n",
    "    return int(xmin), int(xmax), int(ymin), int(ymax)"
   ]
  },
  {
   "cell_type": "code",
   "execution_count": 13,
   "metadata": {},
   "outputs": [],
   "source": [
    "# real input\n",
    "with open(PATH, 'r') as f:\n",
    "    inputs = parse_input([x.strip() for x in f.readlines()])\n"
   ]
  },
  {
   "cell_type": "code",
   "execution_count": 14,
   "metadata": {},
   "outputs": [
    {
     "data": {
      "text/plain": [
       "(85, 145, -163, -108)"
      ]
     },
     "execution_count": 14,
     "metadata": {},
     "output_type": "execute_result"
    }
   ],
   "source": [
    "inputs"
   ]
  },
  {
   "cell_type": "code",
   "execution_count": 15,
   "metadata": {},
   "outputs": [],
   "source": [
    "# test input\n",
    "test_str1 = \"\"\"target area: x=20..30, y=-10..-5\"\"\"\n",
    "\n",
    "inputs_1 = parse_input(test_str1.split('\\n'))"
   ]
  },
  {
   "cell_type": "code",
   "execution_count": 47,
   "metadata": {},
   "outputs": [],
   "source": [
    "def trajectory(initial_velocity, target):\n",
    "    x = y = 0\n",
    "    vx, vy = initial_velocity\n",
    "    xm, xM, ym, yM = target\n",
    "    hit = False\n",
    "    y_positions = []\n",
    "    positions = []\n",
    "    while x <= xM and y >= ym:\n",
    "        positions.append((x, y))\n",
    "        y_positions.append(y)\n",
    "        if xm <= x <= xM and ym <= y <= yM:\n",
    "            hit = True\n",
    "        # iteration\n",
    "        x += vx\n",
    "        y += vy\n",
    "        vy -= 1\n",
    "        vx -= int(np.sign(vx)) if vx != 0 else 0\n",
    "    return hit, max(y_positions)#, positions\n",
    "\n",
    "def solve1(inp, M=None):\n",
    "    xm, xM, ym, yM = inp\n",
    "    if M is None: M = 40\n",
    "    candidate_ranges = ((1, xM+1),(ym, M))\n",
    "    peaks = []\n",
    "    for vx in range(*candidate_ranges[0]):\n",
    "        for vy in range(*candidate_ranges[1]):\n",
    "            hit, peak = trajectory((vx, vy), inp)\n",
    "            if hit: peaks.append(peak)\n",
    "    return max(peaks)\n",
    "\n",
    "def solve2(inp, M=None):\n",
    "    xm, xM, ym, yM = inp\n",
    "    if M is None: M = 40\n",
    "    candidate_ranges = ((1, xM+1),(ym, M))\n",
    "    peaks = []\n",
    "    for vx in range(*candidate_ranges[0]):\n",
    "        for vy in range(*candidate_ranges[1]):\n",
    "            hit, peak = trajectory((vx, vy), inp)\n",
    "            if hit: peaks.append(peak)\n",
    "    return len(peaks)"
   ]
  },
  {
   "cell_type": "code",
   "execution_count": 31,
   "metadata": {},
   "outputs": [
    {
     "name": "stdout",
     "output_type": "stream",
     "text": [
      "(True, 3)\n",
      "(True, 6)\n",
      "(True, 0)\n",
      "(False, 0)\n",
      "(True, 45)\n"
     ]
    }
   ],
   "source": [
    "print(trajectory((7, 2), inputs_1))\n",
    "print(trajectory((6, 3), inputs_1))\n",
    "print(trajectory((9, 0), inputs_1))\n",
    "print(trajectory((17, -4), inputs_1))\n",
    "print(trajectory((6, 9), inputs_1))"
   ]
  },
  {
   "cell_type": "code",
   "execution_count": 41,
   "metadata": {},
   "outputs": [
    {
     "data": {
      "text/plain": [
       "45"
      ]
     },
     "execution_count": 41,
     "metadata": {},
     "output_type": "execute_result"
    }
   ],
   "source": [
    "solve1(inputs_1)"
   ]
  },
  {
   "cell_type": "code",
   "execution_count": 46,
   "metadata": {},
   "outputs": [
    {
     "data": {
      "text/plain": [
       "13203"
      ]
     },
     "execution_count": 46,
     "metadata": {},
     "output_type": "execute_result"
    }
   ],
   "source": [
    "solve1(inputs, 400)"
   ]
  },
  {
   "cell_type": "code",
   "execution_count": 48,
   "metadata": {},
   "outputs": [
    {
     "data": {
      "text/plain": [
       "5644"
      ]
     },
     "execution_count": 48,
     "metadata": {},
     "output_type": "execute_result"
    }
   ],
   "source": [
    "solve2(inputs, 400)"
   ]
  },
  {
   "cell_type": "code",
   "execution_count": null,
   "metadata": {},
   "outputs": [],
   "source": [
    "solve2()"
   ]
  }
 ],
 "metadata": {
  "kernelspec": {
   "display_name": "Python 3",
   "language": "python",
   "name": "python3"
  },
  "language_info": {
   "codemirror_mode": {
    "name": "ipython",
    "version": 3
   },
   "file_extension": ".py",
   "mimetype": "text/x-python",
   "name": "python",
   "nbconvert_exporter": "python",
   "pygments_lexer": "ipython3",
   "version": "3.8.10"
  }
 },
 "nbformat": 4,
 "nbformat_minor": 2
}
