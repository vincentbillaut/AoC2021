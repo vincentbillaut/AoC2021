{
 "cells": [
  {
   "cell_type": "markdown",
   "metadata": {},
   "source": [
    "### Day 8"
   ]
  },
  {
   "cell_type": "code",
   "execution_count": 1,
   "metadata": {},
   "outputs": [],
   "source": [
    "import numpy as np\n",
    "from collections import defaultdict, Counter"
   ]
  },
  {
   "cell_type": "code",
   "execution_count": 2,
   "metadata": {},
   "outputs": [],
   "source": [
    "day_i = 8"
   ]
  },
  {
   "cell_type": "code",
   "execution_count": 3,
   "metadata": {},
   "outputs": [
    {
     "name": "stdout",
     "output_type": "stream",
     "text": [
      "Initializing day 8\n"
     ]
    }
   ],
   "source": [
    "%run start_day.py $day_i"
   ]
  },
  {
   "cell_type": "code",
   "execution_count": 4,
   "metadata": {},
   "outputs": [
    {
     "name": "stdout",
     "output_type": "stream",
     "text": [
      "/home/vincent/Documents/AdventOfCode/2021\n"
     ]
    }
   ],
   "source": [
    "cd /home/vincent/Documents/AdventOfCode/2021"
   ]
  },
  {
   "cell_type": "code",
   "execution_count": 5,
   "metadata": {},
   "outputs": [],
   "source": [
    "PATH = f\"day{day_i}/input{day_i}\""
   ]
  },
  {
   "cell_type": "code",
   "execution_count": 6,
   "metadata": {},
   "outputs": [
    {
     "name": "stdout",
     "output_type": "stream",
     "text": [
      "200 day8/input8\r\n"
     ]
    }
   ],
   "source": [
    "!wc -l $PATH"
   ]
  },
  {
   "cell_type": "code",
   "execution_count": 7,
   "metadata": {},
   "outputs": [
    {
     "name": "stdout",
     "output_type": "stream",
     "text": [
      "badc bd dbeaf cfdbge dfb cfbdea efbag edcfgab dcafe degfca | eacfd acdfbe cbdegf fcbaedg\r\n",
      "cd fdbac egcfab gbadcfe cfgdeb cbadfe deca cdf dfabg abefc | dcf cfbad gbafced fcd\r\n",
      "cg agecfb cbg eabgfdc egdc fdgba bafecd cbdfe bfcdeg cfgdb | efdcb adcfeb fbdcg gbc\r\n",
      "bfceg gfadb dbcfgea bgaef efad abe bcdgfa ea fbdgea agecbd | eadf ceadbg abfge fecdbga\r\n",
      "gdcafe eacb adc gbfda afdceb edgbcf badfc ecgbafd ac fdbce | ebfcd cefdab bdfgeca egbdacf\r\n",
      "aefbgd fbdc fbecg egdcb edcbag bf gcefa fbedcg bagfced fbg | afgce cfbd bdcf geafdbc\r\n",
      "ebgacd edacg gcdeaf cabfg dbc bd cdbgaef ebad fecgbd acbgd | dgbac db caegbdf gcbfa\r\n",
      "defbga gead ge efagcb gdafbc cegbdfa egf bfdce bgdef dgabf | gef eg bfcdag ge\r\n",
      "bae adcgfbe cdfeag ab dcgeb bfdage agecb cagfe abcf bfcaeg | bae aeb agfceb afceg\r\n",
      "ae adefcb gaceb gadceb edag efadcgb badgc cfgbe cadbfg cea | ceabgd fbeacdg aged aged\r\n"
     ]
    }
   ],
   "source": [
    "!head $PATH"
   ]
  },
  {
   "cell_type": "code",
   "execution_count": 8,
   "metadata": {},
   "outputs": [
    {
     "name": "stdout",
     "output_type": "stream",
     "text": [
      "fcdbgae gbacf ebgdfc bcadeg bdgea fagdbe gce aecgb acde ce | cge ecg cabeg efdcgba\r\n",
      "aefgcb fedagcb cefbdg ef dcbeg bacdge fegd edbfc fabdc cef | ecbgfd gdef bacdeg bcdeg\r\n",
      "geadc gecfad gfcadb eg agdcf bgafce gdef acdbe gea dabegcf | ecfbag gebcaf baecd dfeg\r\n",
      "cdeba bd aegcd bfadec ecfab bafd agbfce bfdcge bdc cgebdfa | abcfe agdce db adecg\r\n",
      "fbadg faedgc bgdac bcegd bcadge agc gdefcb cbae gdfbace ca | defgcb ceagbd bdgca afedcg\r\n",
      "acgfd cbdage agcbd dfa edcfg fa dbcfeag fabc dbaefg gdbcfa | af gedabfc af ebgdfac\r\n",
      "dafgbc dfegc dc cgfae cgeafd cdf cagefb ceda bfged fdegcba | aecd cade deac fbged\r\n",
      "cbegda dgfeb gefcb aefbgc fdgceb agdfe dgb bd fdbc bdgfaec | dcgbeaf db gfbed efdag\r\n",
      "aefbd cdbeagf gd fdgc fgcdab afbcg bdg egfabc bfgad aebgcd | gdfc gadcfeb cfgd fgacb\r\n",
      "eb gcbaed aeb fgdecba begd eagdc cadfb eabdc cfgade gacfeb | egdca dcbea bdfcgea be\r\n"
     ]
    }
   ],
   "source": [
    "!tail $PATH"
   ]
  },
  {
   "cell_type": "raw",
   "metadata": {},
   "source": [
    "# simple list\n",
    "l = []\n",
    "with open(PATH, 'r') as f:\n",
    "    for i in f:\n",
    "        l.extend(list(map(int, i.split(','))))\n",
    "len(l)"
   ]
  },
  {
   "cell_type": "raw",
   "metadata": {},
   "source": [
    "print(l)"
   ]
  },
  {
   "cell_type": "code",
   "execution_count": 11,
   "metadata": {},
   "outputs": [
    {
     "data": {
      "text/plain": [
       "(200, 200)"
      ]
     },
     "execution_count": 11,
     "metadata": {},
     "output_type": "execute_result"
    }
   ],
   "source": [
    "# other\n",
    "inputs, outputs = [], []\n",
    "with open(PATH, 'r') as f:\n",
    "    for i in f:\n",
    "        s = i.split(' | ')\n",
    "        inputs.append(s[0].split())\n",
    "        outputs.append(s[1].split())\n",
    "len(inputs), len(outputs)"
   ]
  },
  {
   "cell_type": "code",
   "execution_count": 12,
   "metadata": {},
   "outputs": [
    {
     "data": {
      "text/plain": [
       "(['badc',\n",
       "  'bd',\n",
       "  'dbeaf',\n",
       "  'cfdbge',\n",
       "  'dfb',\n",
       "  'cfbdea',\n",
       "  'efbag',\n",
       "  'edcfgab',\n",
       "  'dcafe',\n",
       "  'degfca'],\n",
       " ['eacfd', 'acdfbe', 'cbdegf', 'fcbaedg'])"
      ]
     },
     "execution_count": 12,
     "metadata": {},
     "output_type": "execute_result"
    }
   ],
   "source": [
    "inputs[0], outputs[0]"
   ]
  },
  {
   "cell_type": "code",
   "execution_count": 13,
   "metadata": {},
   "outputs": [],
   "source": [
    "def solve1(o):\n",
    "    c = 0\n",
    "    for x in o:\n",
    "        for j in x:\n",
    "            if len(j) in [2, 3, 4, 7]:\n",
    "                c += 1\n",
    "    return c"
   ]
  },
  {
   "cell_type": "code",
   "execution_count": 72,
   "metadata": {},
   "outputs": [],
   "source": [
    "# uniques\n",
    "# len: digit\n",
    "# 2 --> 1\n",
    "# 3 --> 7\n",
    "# 4 --> 4\n",
    "# 7 --> 8\n",
    "\n",
    "def resolve_inputs(l):\n",
    "    l_sort = sorted(l, key=len)\n",
    "    digit_sets = [set(x) for x in l_sort]\n",
    "    mapping = {}\n",
    "    mapping['a'] = (digit_sets[1] - digit_sets[0]).pop()\n",
    "    b_and_d = list(digit_sets[2] - digit_sets[0])\n",
    "    if digit_sets[-1] - {b_and_d[0]} in digit_sets:\n",
    "        # c'est un zero\n",
    "        mapping['b'] = b_and_d[1]\n",
    "        mapping['d'] = b_and_d[0]\n",
    "    else:\n",
    "        # c'est pas un zero\n",
    "        mapping['d'] = b_and_d[1]\n",
    "        mapping['b'] = b_and_d[0]\n",
    "    e_and_g = list(digit_sets[-1] - digit_sets[2] - {mapping['a']})\n",
    "    if digit_sets[-1] - {e_and_g[0]} in digit_sets:\n",
    "        # c'est un neuf\n",
    "        mapping['e'] = e_and_g[0]\n",
    "        mapping['g'] = e_and_g[1]\n",
    "    else:\n",
    "        # c'est pas un neuf\n",
    "        mapping['g'] = e_and_g[0]\n",
    "        mapping['e'] = e_and_g[1]\n",
    "    c_and_f = list(digit_sets[0])\n",
    "    if set(mapping.values()).union({c_and_f[0]}) in digit_sets:\n",
    "        # c'est un six\n",
    "        mapping['f'] = c_and_f[0]\n",
    "        mapping['c'] = c_and_f[1]\n",
    "    else:\n",
    "        # c'est pas un six\n",
    "        mapping['c'] = c_and_f[0]\n",
    "        mapping['f'] = c_and_f[1]\n",
    "    reverse_mapping = {v:k for k,v in mapping.items()}\n",
    "    return reverse_mapping\n",
    "\n",
    "TRUE_MAPPING = {\n",
    "    \"abcefg\": 0,\n",
    "    \"cf\": 1,\n",
    "    \"acdeg\": 2,\n",
    "    \"acdfg\": 3,\n",
    "    \"bcdf\": 4,\n",
    "    \"abdfg\": 5,\n",
    "    \"abdefg\": 6,\n",
    "    \"acf\": 7,\n",
    "    \"abcdefg\": 8,\n",
    "    \"abcdfg\": 9\n",
    "}\n",
    "\n",
    "def solve2(inputs, outputs):\n",
    "    total = 0\n",
    "    for i, o in zip(inputs, outputs):\n",
    "        mapping = resolve_inputs(i)\n",
    "        translated_digits = [''.join([mapping[x] for x in digit]) for digit in o]\n",
    "        sorted_digits = [''.join([c for c in sorted(x)]) for x in translated_digits]\n",
    "        computed = [TRUE_MAPPING[x] for x in sorted_digits]\n",
    "        number = 1000 * computed[0] + 100 * computed[1] + 10 * computed[2] + computed[3]\n",
    "        total += number\n",
    "    return total"
   ]
  },
  {
   "cell_type": "code",
   "execution_count": 54,
   "metadata": {},
   "outputs": [
    {
     "data": {
      "text/plain": [
       "['eacfd', 'acdfbe', 'cbdegf', 'fcbaedg']"
      ]
     },
     "execution_count": 54,
     "metadata": {},
     "output_type": "execute_result"
    }
   ],
   "source": [
    "outputs[0]"
   ]
  },
  {
   "cell_type": "code",
   "execution_count": 73,
   "metadata": {
    "scrolled": true
   },
   "outputs": [
    {
     "data": {
      "text/plain": [
       "5353"
      ]
     },
     "execution_count": 73,
     "metadata": {},
     "output_type": "execute_result"
    }
   ],
   "source": [
    "solve2([\"acedgfb cdfbe gcdfa fbcad dab cefabd cdfgeb eafb cagedb ab\".split()], [\"cdfeb fcadb cdfeb cdbaf\".split()])"
   ]
  },
  {
   "cell_type": "code",
   "execution_count": 74,
   "metadata": {},
   "outputs": [
    {
     "data": {
      "text/plain": [
       "986034"
      ]
     },
     "execution_count": 74,
     "metadata": {},
     "output_type": "execute_result"
    }
   ],
   "source": [
    "solve2(inputs, outputs)"
   ]
  },
  {
   "cell_type": "code",
   "execution_count": null,
   "metadata": {},
   "outputs": [],
   "source": []
  }
 ],
 "metadata": {
  "kernelspec": {
   "display_name": "Python 3",
   "language": "python",
   "name": "python3"
  },
  "language_info": {
   "codemirror_mode": {
    "name": "ipython",
    "version": 3
   },
   "file_extension": ".py",
   "mimetype": "text/x-python",
   "name": "python",
   "nbconvert_exporter": "python",
   "pygments_lexer": "ipython3",
   "version": "3.8.10"
  }
 },
 "nbformat": 4,
 "nbformat_minor": 2
}
