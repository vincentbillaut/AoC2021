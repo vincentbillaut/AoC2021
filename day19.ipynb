{
 "cells": [
  {
   "cell_type": "markdown",
   "metadata": {},
   "source": [
    "### Day 19"
   ]
  },
  {
   "cell_type": "code",
   "execution_count": 79,
   "metadata": {},
   "outputs": [],
   "source": [
    "import numpy as np\n",
    "import matplotlib.pyplot as plt\n",
    "import re\n",
    "from collections import defaultdict, Counter"
   ]
  },
  {
   "cell_type": "code",
   "execution_count": 2,
   "metadata": {},
   "outputs": [],
   "source": [
    "day_i = 19"
   ]
  },
  {
   "cell_type": "code",
   "execution_count": 3,
   "metadata": {},
   "outputs": [
    {
     "name": "stdout",
     "output_type": "stream",
     "text": [
      "Initializing day 19\n"
     ]
    }
   ],
   "source": [
    "%run start_day.py $day_i"
   ]
  },
  {
   "cell_type": "code",
   "execution_count": 4,
   "metadata": {},
   "outputs": [
    {
     "name": "stdout",
     "output_type": "stream",
     "text": [
      "/home/vincent/Documents/AdventOfCode/2021\n"
     ]
    }
   ],
   "source": [
    "cd /home/vincent/Documents/AdventOfCode/2021"
   ]
  },
  {
   "cell_type": "code",
   "execution_count": 5,
   "metadata": {},
   "outputs": [],
   "source": [
    "PATH = f\"day{day_i}/input{day_i}\""
   ]
  },
  {
   "cell_type": "code",
   "execution_count": 6,
   "metadata": {},
   "outputs": [
    {
     "name": "stdout",
     "output_type": "stream",
     "text": [
      "716 day19/input19\r\n"
     ]
    }
   ],
   "source": [
    "!wc -l $PATH"
   ]
  },
  {
   "cell_type": "code",
   "execution_count": 7,
   "metadata": {},
   "outputs": [
    {
     "name": "stdout",
     "output_type": "stream",
     "text": [
      "--- scanner 0 ---\r\n",
      "-750,-798,564\r\n",
      "651,-651,-450\r\n",
      "545,505,-850\r\n",
      "-869,-573,-721\r\n",
      "-709,660,754\r\n",
      "391,436,558\r\n",
      "-748,-884,535\r\n",
      "585,-474,445\r\n",
      "618,-518,-448\r\n"
     ]
    }
   ],
   "source": [
    "!head $PATH"
   ]
  },
  {
   "cell_type": "code",
   "execution_count": 18,
   "metadata": {},
   "outputs": [
    {
     "name": "stdout",
     "output_type": "stream",
     "text": [
      "821,-619,642\r\n",
      "818,-543,610\r\n",
      "343,700,-535\r\n",
      "-666,-346,697\r\n",
      "-684,425,-810\r\n",
      "-709,-328,645\r\n",
      "-699,-348,564\r\n",
      "555,-659,-821\r\n",
      "-624,-843,-636\r\n",
      "-685,-867,-665\r\n"
     ]
    }
   ],
   "source": [
    "!tail $PATH"
   ]
  },
  {
   "cell_type": "code",
   "execution_count": 12,
   "metadata": {},
   "outputs": [],
   "source": [
    "def parse_input(inp):\n",
    "    scanners = []\n",
    "    points = []\n",
    "    assert \"scanner 0\" in inp[0]\n",
    "    for x in inp[1:]:\n",
    "        if \"scanner\" in x:\n",
    "            scanners.append(points)\n",
    "            points = []\n",
    "        elif len(x) > 0:\n",
    "            points.append(tuple(list(map(int, x.split(',')))))\n",
    "    scanners.append(points)\n",
    "    return scanners"
   ]
  },
  {
   "cell_type": "code",
   "execution_count": 13,
   "metadata": {},
   "outputs": [],
   "source": [
    "# real input\n",
    "with open(PATH, 'r') as f:\n",
    "    inputs = parse_input([x.strip() for x in f.readlines()])\n"
   ]
  },
  {
   "cell_type": "code",
   "execution_count": 15,
   "metadata": {},
   "outputs": [
    {
     "data": {
      "text/plain": [
       "26"
      ]
     },
     "execution_count": 15,
     "metadata": {},
     "output_type": "execute_result"
    }
   ],
   "source": [
    "len(inputs)"
   ]
  },
  {
   "cell_type": "code",
   "execution_count": 19,
   "metadata": {},
   "outputs": [],
   "source": [
    "# test input\n",
    "test_str1 = \"\"\"--- scanner 0 ---\n",
    "404,-588,-901\n",
    "528,-643,409\n",
    "-838,591,734\n",
    "390,-675,-793\n",
    "-537,-823,-458\n",
    "-485,-357,347\n",
    "-345,-311,381\n",
    "-661,-816,-575\n",
    "-876,649,763\n",
    "-618,-824,-621\n",
    "553,345,-567\n",
    "474,580,667\n",
    "-447,-329,318\n",
    "-584,868,-557\n",
    "544,-627,-890\n",
    "564,392,-477\n",
    "455,729,728\n",
    "-892,524,684\n",
    "-689,845,-530\n",
    "423,-701,434\n",
    "7,-33,-71\n",
    "630,319,-379\n",
    "443,580,662\n",
    "-789,900,-551\n",
    "459,-707,401\n",
    "\n",
    "--- scanner 1 ---\n",
    "686,422,578\n",
    "605,423,415\n",
    "515,917,-361\n",
    "-336,658,858\n",
    "95,138,22\n",
    "-476,619,847\n",
    "-340,-569,-846\n",
    "567,-361,727\n",
    "-460,603,-452\n",
    "669,-402,600\n",
    "729,430,532\n",
    "-500,-761,534\n",
    "-322,571,750\n",
    "-466,-666,-811\n",
    "-429,-592,574\n",
    "-355,545,-477\n",
    "703,-491,-529\n",
    "-328,-685,520\n",
    "413,935,-424\n",
    "-391,539,-444\n",
    "586,-435,557\n",
    "-364,-763,-893\n",
    "807,-499,-711\n",
    "755,-354,-619\n",
    "553,889,-390\n",
    "\n",
    "--- scanner 2 ---\n",
    "649,640,665\n",
    "682,-795,504\n",
    "-784,533,-524\n",
    "-644,584,-595\n",
    "-588,-843,648\n",
    "-30,6,44\n",
    "-674,560,763\n",
    "500,723,-460\n",
    "609,671,-379\n",
    "-555,-800,653\n",
    "-675,-892,-343\n",
    "697,-426,-610\n",
    "578,704,681\n",
    "493,664,-388\n",
    "-671,-858,530\n",
    "-667,343,800\n",
    "571,-461,-707\n",
    "-138,-166,112\n",
    "-889,563,-600\n",
    "646,-828,498\n",
    "640,759,510\n",
    "-630,509,768\n",
    "-681,-892,-333\n",
    "673,-379,-804\n",
    "-742,-814,-386\n",
    "577,-820,562\n",
    "\n",
    "--- scanner 3 ---\n",
    "-589,542,597\n",
    "605,-692,669\n",
    "-500,565,-823\n",
    "-660,373,557\n",
    "-458,-679,-417\n",
    "-488,449,543\n",
    "-626,468,-788\n",
    "338,-750,-386\n",
    "528,-832,-391\n",
    "562,-778,733\n",
    "-938,-730,414\n",
    "543,643,-506\n",
    "-524,371,-870\n",
    "407,773,750\n",
    "-104,29,83\n",
    "378,-903,-323\n",
    "-778,-728,485\n",
    "426,699,580\n",
    "-438,-605,-362\n",
    "-469,-447,-387\n",
    "509,732,623\n",
    "647,635,-688\n",
    "-868,-804,481\n",
    "614,-800,639\n",
    "595,780,-596\n",
    "\n",
    "--- scanner 4 ---\n",
    "727,592,562\n",
    "-293,-554,779\n",
    "441,611,-461\n",
    "-714,465,-776\n",
    "-743,427,-804\n",
    "-660,-479,-426\n",
    "832,-632,460\n",
    "927,-485,-438\n",
    "408,393,-506\n",
    "466,436,-512\n",
    "110,16,151\n",
    "-258,-428,682\n",
    "-393,719,612\n",
    "-211,-452,876\n",
    "808,-476,-593\n",
    "-575,615,604\n",
    "-485,667,467\n",
    "-680,325,-822\n",
    "-627,-443,-432\n",
    "872,-547,-609\n",
    "833,512,582\n",
    "807,604,487\n",
    "839,-516,451\n",
    "891,-625,532\n",
    "-652,-548,-490\n",
    "30,-46,-14\"\"\"\n",
    "\n",
    "inputs_1 = parse_input(test_str1.split('\\n'))"
   ]
  },
  {
   "cell_type": "code",
   "execution_count": 112,
   "metadata": {},
   "outputs": [],
   "source": [
    "def rotations(n=3):\n",
    "    assert n == 3\n",
    "    # first dimension\n",
    "    first_dim = []\n",
    "    for i in range(n):\n",
    "        first_dim.append((i, 1))\n",
    "        first_dim.append((i, -1))\n",
    "    # second dimension\n",
    "    second = []\n",
    "    for f, s in first_dim:\n",
    "        for j in range(n):\n",
    "            if j != f:\n",
    "                second.append([(f, s), (j, 1)])\n",
    "                second.append([(f, s), (j, -1)])\n",
    "    # third\n",
    "    rotations = []\n",
    "    for match in second:\n",
    "        rot = np.zeros((n, n))\n",
    "        rot[0, match[0][0]] = match[0][1]\n",
    "        rot[1, match[1][0]] = match[1][1]\n",
    "        missing = 3 - match[0][0] - match[1][0]\n",
    "        rot[2, missing] = 1\n",
    "        if np.linalg.det(rot) == -1: rot[2, missing] = -1\n",
    "        rotations.append(rot.astype(int))\n",
    "    return rotations"
   ]
  },
  {
   "cell_type": "code",
   "execution_count": 211,
   "metadata": {},
   "outputs": [],
   "source": [
    "ROTATIONS = rotations()\n",
    "\n",
    "class Scanner():\n",
    "    def __init__(self, l):\n",
    "        self.points = l\n",
    "        self.n_points = len(l)\n",
    "        self.compute_distances()\n",
    "        \n",
    "    def compute_distances(self):\n",
    "        self.distances = np.zeros((self.n_points, self.n_points))\n",
    "        for i in range(self.n_points):\n",
    "            for j in range(i+1, self.n_points):\n",
    "                d = np.linalg.norm(np.array(self.points[i]) - np.array(self.points[j]), ord=2)\n",
    "                self.distances[i, j] = d\n",
    "                self.distances[j, i] = d\n",
    "                \n",
    "    def compare(self, o):\n",
    "        \"\"\"\n",
    "        returns:\n",
    "         - whether the two scanners overlap\n",
    "         - if they do, return the matching\n",
    "        \"\"\"\n",
    "        matching = {}\n",
    "        ours, theirs = set(range(self.n_points)), set(range(o.n_points))\n",
    "        for i in range(self.n_points):\n",
    "            distances = set(self.distances[i, :])\n",
    "            found, index = False, None\n",
    "            for j in theirs:\n",
    "                if not found:\n",
    "                    their_distances = set(o.distances[j, :])\n",
    "                    if len(distances & their_distances) >= 12:\n",
    "                        found = True\n",
    "                        index = j\n",
    "            if found:\n",
    "                matching[i] = index\n",
    "                theirs.remove(index)\n",
    "        if len(matching) >= 12: return True, matching\n",
    "        else: return False, None\n",
    "    \n",
    "    def merge(self, o):\n",
    "        \"\"\"\n",
    "        Assumes that the scanners overlap.\n",
    "        Merges the points from o into self.\n",
    "        \"\"\"\n",
    "        _, matching = self.compare(o)\n",
    "        points_to_match = np.zeros((len(matching), 3))\n",
    "        points_to_match2 = np.zeros((len(matching), 3))\n",
    "        for i, k in enumerate(matching):\n",
    "            points_to_match[i, :] = np.array(self.points[k])\n",
    "            points_to_match2[i, :] = np.array(o.points[matching[k]])\n",
    "        # get 12 differences\n",
    "        vectors, vectors2 = np.zeros((len(matching), 3)), np.zeros((len(matching), 3))\n",
    "        vectors[0, :] = points_to_match[2, :] - points_to_match[1, :]\n",
    "        vectors2[0, :] = points_to_match2[2, :] - points_to_match2[1, :]\n",
    "        for i in range(1, len(matching)):\n",
    "            vectors[i, :] = points_to_match[i, :] - points_to_match[0, :]\n",
    "            vectors2[i, :] = points_to_match2[i, :] - points_to_match2[0, :]\n",
    "        # find rotation\n",
    "        found_rotation, rotation = False, None\n",
    "        for ROT in ROTATIONS:\n",
    "            if np.allclose(vectors2 @ ROT, vectors):\n",
    "                assert not found_rotation\n",
    "                found_rotation = True\n",
    "                rotation = ROT\n",
    "        assert found_rotation\n",
    "        offset = (points_to_match2 @ rotation - points_to_match)[0, :]\n",
    "        # convert points from o\n",
    "        converted_points = []\n",
    "        for p in o.points:\n",
    "            new_point = np.array(p) @ rotation - offset\n",
    "            new_point = tuple(new_point.astype(int).tolist())\n",
    "            converted_points.append(new_point)\n",
    "        all_points = set(self.points)\n",
    "        for p in converted_points:\n",
    "            if p not in all_points:\n",
    "                all_points.add(p)\n",
    "        return Scanner(list(all_points)), offset"
   ]
  },
  {
   "cell_type": "raw",
   "metadata": {},
   "source": [
    "(p2' - p0') @ ROT = p2 - p0\n",
    "p2' @ ROT - p2 = p0' @ ROT - p0"
   ]
  },
  {
   "cell_type": "code",
   "execution_count": 194,
   "metadata": {},
   "outputs": [
    {
     "data": {
      "text/plain": [
       "(True,\n",
       " {0: 3,\n",
       "  1: 8,\n",
       "  3: 12,\n",
       "  4: 1,\n",
       "  5: 24,\n",
       "  6: 18,\n",
       "  7: 10,\n",
       "  9: 0,\n",
       "  12: 2,\n",
       "  14: 5,\n",
       "  19: 15,\n",
       "  24: 19})"
      ]
     },
     "execution_count": 194,
     "metadata": {},
     "output_type": "execute_result"
    }
   ],
   "source": [
    "scanner0 = Scanner(inputs_1[0])\n",
    "scanner1 = Scanner(inputs_1[1])\n",
    "scanner4 = Scanner(inputs_1[4])\n",
    "scanner0.compare(scanner1)"
   ]
  },
  {
   "cell_type": "code",
   "execution_count": 195,
   "metadata": {
    "scrolled": false
   },
   "outputs": [
    {
     "name": "stdout",
     "output_type": "stream",
     "text": [
      "38\n"
     ]
    },
    {
     "data": {
      "text/plain": [
       "<__main__.Scanner at 0x7f4a39207970>"
      ]
     },
     "execution_count": 195,
     "metadata": {},
     "output_type": "execute_result"
    }
   ],
   "source": [
    "scanner0.merge(scanner1)"
   ]
  },
  {
   "cell_type": "code",
   "execution_count": 187,
   "metadata": {},
   "outputs": [
    {
     "data": {
      "text/plain": [
       "(True,\n",
       " {2: 4,\n",
       "  6: 11,\n",
       "  8: 24,\n",
       "  13: 1,\n",
       "  15: 18,\n",
       "  16: 15,\n",
       "  18: 17,\n",
       "  19: 5,\n",
       "  21: 13,\n",
       "  22: 12,\n",
       "  23: 16,\n",
       "  24: 3})"
      ]
     },
     "execution_count": 187,
     "metadata": {},
     "output_type": "execute_result"
    }
   ],
   "source": [
    "scanner1.compare(scanner4)"
   ]
  },
  {
   "cell_type": "code",
   "execution_count": 226,
   "metadata": {},
   "outputs": [],
   "source": [
    "def solve1(inp):\n",
    "    n = len(inp)\n",
    "    scanners = [Scanner(x) for x in inp[1:]]\n",
    "    current = Scanner(inp[0])\n",
    "    to_merge = set(range(len(scanners)))\n",
    "    while len(to_merge) > 0:\n",
    "        for i in to_merge:\n",
    "            overlap, _ = current.compare(scanners[i])\n",
    "            if overlap:\n",
    "                current, _ = current.merge(scanners[i])\n",
    "                to_merge.remove(i)\n",
    "                print(f\"Merged with {i+1} - new count = {current.n_points}\")\n",
    "                break\n",
    "    return current.n_points\n",
    "\n",
    "def solve2(inp):\n",
    "    n = len(inp)\n",
    "    scanners = [Scanner(x) for x in inp[1:]]\n",
    "    # scanner_locations\n",
    "    scanner_locs = np.zeros((n, 3)) # scanner 0's location is automatically good\n",
    "    # merging scanners\n",
    "    current = Scanner(inp[0])\n",
    "    to_merge = set(range(len(scanners)))\n",
    "    while len(to_merge) > 0:\n",
    "        for i in to_merge:\n",
    "            overlap, _ = current.compare(scanners[i])\n",
    "            if overlap:\n",
    "                current, offset = current.merge(scanners[i])\n",
    "                scanner_locs[i+1, :] = offset\n",
    "                to_merge.remove(i)\n",
    "#                 print(f\"Merged with {i+1} - new count = {current.n_points}\")\n",
    "                break\n",
    "    # compute distances\n",
    "    distances = []\n",
    "    for i in range(n):\n",
    "        for j in range(i):\n",
    "            distances.append(np.sum(np.abs(scanner_locs[i, :] - scanner_locs[j, :])))\n",
    "    return max(distances)"
   ]
  },
  {
   "cell_type": "code",
   "execution_count": 213,
   "metadata": {},
   "outputs": [
    {
     "name": "stdout",
     "output_type": "stream",
     "text": [
      "Merged with 1 - new count = 38\n",
      "Merged with 3 - new count = 51\n",
      "Merged with 4 - new count = 65\n",
      "Merged with 2 - new count = 79\n"
     ]
    },
    {
     "data": {
      "text/plain": [
       "79"
      ]
     },
     "execution_count": 213,
     "metadata": {},
     "output_type": "execute_result"
    }
   ],
   "source": [
    "solve1(inputs_1)"
   ]
  },
  {
   "cell_type": "code",
   "execution_count": 200,
   "metadata": {},
   "outputs": [
    {
     "name": "stdout",
     "output_type": "stream",
     "text": [
      "40\n",
      "Merged with 14 - new count = 40\n",
      "53\n",
      "Merged with 7 - new count = 53\n",
      "67\n",
      "Merged with 10 - new count = 67\n",
      "81\n",
      "Merged with 16 - new count = 81\n",
      "94\n",
      "Merged with 17 - new count = 94\n",
      "102\n",
      "Merged with 19 - new count = 102\n",
      "115\n",
      "Merged with 5 - new count = 115\n",
      "129\n",
      "Merged with 2 - new count = 129\n",
      "143\n",
      "Merged with 12 - new count = 143\n",
      "157\n",
      "Merged with 4 - new count = 157\n",
      "170\n",
      "Merged with 6 - new count = 170\n",
      "183\n",
      "Merged with 8 - new count = 183\n",
      "197\n",
      "Merged with 20 - new count = 197\n",
      "210\n",
      "Merged with 13 - new count = 210\n",
      "217\n",
      "Merged with 21 - new count = 217\n",
      "222\n",
      "Merged with 22 - new count = 222\n",
      "236\n",
      "Merged with 18 - new count = 236\n",
      "249\n",
      "Merged with 15 - new count = 249\n",
      "263\n",
      "Merged with 9 - new count = 263\n",
      "270\n",
      "Merged with 11 - new count = 270\n",
      "278\n",
      "Merged with 23 - new count = 278\n",
      "292\n",
      "Merged with 1 - new count = 292\n",
      "306\n",
      "Merged with 3 - new count = 306\n",
      "319\n",
      "Merged with 24 - new count = 319\n",
      "320\n",
      "Merged with 25 - new count = 320\n"
     ]
    },
    {
     "data": {
      "text/plain": [
       "320"
      ]
     },
     "execution_count": 200,
     "metadata": {},
     "output_type": "execute_result"
    }
   ],
   "source": [
    "solve1(inputs)"
   ]
  },
  {
   "cell_type": "code",
   "execution_count": 227,
   "metadata": {
    "scrolled": false
   },
   "outputs": [
    {
     "data": {
      "text/plain": [
       "3621.0"
      ]
     },
     "execution_count": 227,
     "metadata": {},
     "output_type": "execute_result"
    }
   ],
   "source": [
    "solve2(inputs_1)"
   ]
  },
  {
   "cell_type": "code",
   "execution_count": 228,
   "metadata": {},
   "outputs": [
    {
     "data": {
      "text/plain": [
       "9655.0"
      ]
     },
     "execution_count": 228,
     "metadata": {},
     "output_type": "execute_result"
    }
   ],
   "source": [
    "solve2(inputs)"
   ]
  },
  {
   "cell_type": "code",
   "execution_count": null,
   "metadata": {},
   "outputs": [],
   "source": []
  }
 ],
 "metadata": {
  "kernelspec": {
   "display_name": "Python 3",
   "language": "python",
   "name": "python3"
  },
  "language_info": {
   "codemirror_mode": {
    "name": "ipython",
    "version": 3
   },
   "file_extension": ".py",
   "mimetype": "text/x-python",
   "name": "python",
   "nbconvert_exporter": "python",
   "pygments_lexer": "ipython3",
   "version": "3.8.10"
  }
 },
 "nbformat": 4,
 "nbformat_minor": 2
}
