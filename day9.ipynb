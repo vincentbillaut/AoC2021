{
 "cells": [
  {
   "cell_type": "markdown",
   "metadata": {},
   "source": [
    "### Day 9"
   ]
  },
  {
   "cell_type": "code",
   "execution_count": 1,
   "metadata": {},
   "outputs": [],
   "source": [
    "import numpy as np\n",
    "from collections import defaultdict, Counter"
   ]
  },
  {
   "cell_type": "code",
   "execution_count": 2,
   "metadata": {},
   "outputs": [],
   "source": [
    "day_i = 9"
   ]
  },
  {
   "cell_type": "code",
   "execution_count": 3,
   "metadata": {},
   "outputs": [
    {
     "name": "stdout",
     "output_type": "stream",
     "text": [
      "Initializing day 9\n"
     ]
    }
   ],
   "source": [
    "%run start_day.py $day_i"
   ]
  },
  {
   "cell_type": "code",
   "execution_count": 4,
   "metadata": {},
   "outputs": [
    {
     "name": "stdout",
     "output_type": "stream",
     "text": [
      "/home/vincent/Documents/AdventOfCode/2021\n"
     ]
    }
   ],
   "source": [
    "cd /home/vincent/Documents/AdventOfCode/2021"
   ]
  },
  {
   "cell_type": "code",
   "execution_count": 5,
   "metadata": {},
   "outputs": [],
   "source": [
    "PATH = f\"day{day_i}/input{day_i}\""
   ]
  },
  {
   "cell_type": "code",
   "execution_count": 6,
   "metadata": {},
   "outputs": [
    {
     "name": "stdout",
     "output_type": "stream",
     "text": [
      "100 day9/input9\r\n"
     ]
    }
   ],
   "source": [
    "!wc -l $PATH"
   ]
  },
  {
   "cell_type": "code",
   "execution_count": 7,
   "metadata": {},
   "outputs": [
    {
     "name": "stdout",
     "output_type": "stream",
     "text": [
      "8765432876678945459896432459890123456789219865434989979901998765323556789657898764567891098998765434\r\n",
      "9874321234589432348789321598799234678897909954329878567899899877612345678945999843456792987989896749\r\n",
      "8763210345694321245697632987678949789956798768210965456789789998543456989656795432345679876578987898\r\n",
      "9654321256789490126789549876567898991239899876361294389895678987654567899878985321234569765459999997\r\n",
      "9987632345678989436799699965488987989398998765452983278954589998767678998989877410165698864348999876\r\n",
      "9876545656789678945678989876599435678987769876879874367895678989878789987898764321234987653237898765\r\n",
      "9987656787894569876989876989678924569876646987998765458998789876989899876789985542349876740126897654\r\n",
      "9898789898923478987899965498789013498765435598999876569549898765491958965678997643598765432234789733\r\n",
      "7659899949012568999998654349898923987654323459789989678956999987210247893234987654679876646545678921\r\n",
      "8943987632123499998987543235967899876543212345678998789767999976321356932123798767898989757856789210\r\n"
     ]
    }
   ],
   "source": [
    "!head $PATH"
   ]
  },
  {
   "cell_type": "code",
   "execution_count": 8,
   "metadata": {},
   "outputs": [
    {
     "name": "stdout",
     "output_type": "stream",
     "text": [
      "8934589765639876567656789434567988698756567897569898767896569876789898934987898543236789651234976563\r\n",
      "9125678954323997879878992123458999796645456789678999658789498765678999129876789654345898743999895432\r\n",
      "1014567896212598998989943254569234985432346899989889545678987654589991019965699976456789859886789421\r\n",
      "2123698965403459987899854365678959874321234589998775434569898767678989198764789897567898998765678942\r\n",
      "5436789876514998896789765498789198765210123478999654323459799878989678987653456789678967987954567893\r\n",
      "6545678984329876745678996568893239654341234567896543212997689989294569876532345678999659876543478954\r\n",
      "7676789996534965434556789678965498765454345678987654329876589990123456987646756789876545989832349895\r\n",
      "8987996987649876323645678989876989876565656789498765435987678921247897898767897896543234598747456797\r\n",
      "9598945699799765101234678994989878987676987892349989745698799432356998959988998965432123459656567898\r\n",
      "3459656789987654212345789543298769998987898921235697656789896565467899543299439878943434598767898999\r\n"
     ]
    }
   ],
   "source": [
    "!tail $PATH"
   ]
  },
  {
   "cell_type": "raw",
   "metadata": {},
   "source": [
    "# simple list\n",
    "l = []\n",
    "with open(PATH, 'r') as f:\n",
    "    for i in f:\n",
    "        l.extend(list(map(int, i.split(','))))\n",
    "len(l)"
   ]
  },
  {
   "cell_type": "code",
   "execution_count": 9,
   "metadata": {},
   "outputs": [
    {
     "data": {
      "text/plain": [
       "100"
      ]
     },
     "execution_count": 9,
     "metadata": {},
     "output_type": "execute_result"
    }
   ],
   "source": [
    "# other input\n",
    "l = []\n",
    "with open(PATH, 'r') as f:\n",
    "    for i in f:\n",
    "        l.append(i.strip())\n",
    "len(l)"
   ]
  },
  {
   "cell_type": "code",
   "execution_count": 11,
   "metadata": {},
   "outputs": [
    {
     "data": {
      "text/plain": [
       "100"
      ]
     },
     "execution_count": 11,
     "metadata": {},
     "output_type": "execute_result"
    }
   ],
   "source": [
    "len(l[0])"
   ]
  },
  {
   "cell_type": "code",
   "execution_count": 13,
   "metadata": {},
   "outputs": [
    {
     "name": "stdout",
     "output_type": "stream",
     "text": [
      "(100, 100)\n"
     ]
    }
   ],
   "source": [
    "arr = np.zeros((100,100))\n",
    "for i,x in enumerate(l):\n",
    "    arr[i,:] = np.array(list(map(int, x)))\n",
    "print(arr.shape)"
   ]
  },
  {
   "cell_type": "code",
   "execution_count": 19,
   "metadata": {},
   "outputs": [
    {
     "name": "stdout",
     "output_type": "stream",
     "text": [
      "[[2 1 9 9 9 4 3 2 1 0]\n",
      " [3 9 8 7 8 9 4 9 2 1]\n",
      " [9 8 5 6 7 8 9 8 9 2]\n",
      " [8 7 6 7 8 9 6 7 8 9]\n",
      " [9 8 9 9 9 6 5 6 7 8]]\n",
      "(5, 10)\n"
     ]
    }
   ],
   "source": [
    "test_st = \"\"\"2199943210\n",
    "3987894921\n",
    "9856789892\n",
    "8767896789\n",
    "9899965678\"\"\"\n",
    "test_arr = np.array([list(map(int, l)) for l in test_st.split('\\n')])\n",
    "print(test_arr)\n",
    "print(test_arr.shape)"
   ]
  },
  {
   "cell_type": "code",
   "execution_count": null,
   "metadata": {},
   "outputs": [],
   "source": []
  },
  {
   "cell_type": "code",
   "execution_count": 14,
   "metadata": {
    "scrolled": true
   },
   "outputs": [
    {
     "name": "stdout",
     "output_type": "stream",
     "text": [
      "[[9. 9. 9. ... 9. 9. 9.]\n",
      " [9. 8. 7. ... 3. 4. 9.]\n",
      " [9. 9. 8. ... 4. 9. 9.]\n",
      " ...\n",
      " [9. 9. 5. ... 9. 8. 9.]\n",
      " [9. 3. 4. ... 9. 9. 9.]\n",
      " [9. 9. 9. ... 9. 9. 9.]]\n"
     ]
    }
   ],
   "source": [
    "padded_arr = np.ones((102, 102)) * 9\n",
    "padded_arr[1:-1, 1:-1] = arr\n",
    "print(padded_arr)"
   ]
  },
  {
   "cell_type": "code",
   "execution_count": null,
   "metadata": {},
   "outputs": [],
   "source": [
    "padded_arr[:-1, :-1] < padded_arr[]"
   ]
  },
  {
   "cell_type": "code",
   "execution_count": 59,
   "metadata": {},
   "outputs": [],
   "source": [
    "def solve1(a):\n",
    "    n, m = a.shape\n",
    "    padded_a = np.ones((n+2, m+2)) * 9\n",
    "    padded_a[1:-1, 1:-1] = a\n",
    "#     print(padded_a[1:-1,1:-1])\n",
    "    dips = (padded_a[1:-1,1:-1] < padded_a[:-2,1:-1]).astype(int)\n",
    "    dips *= (padded_a[1:-1,1:-1] < padded_a[1:-1,2:]).astype(int)\n",
    "    dips *= (padded_a[1:-1,1:-1] < padded_a[1:-1,:-2]).astype(int)\n",
    "    dips *= (padded_a[1:-1,1:-1] < padded_a[2:,1:-1]).astype(int)\n",
    "    print(padded_a[1:-1,1:-1].astype(int))\n",
    "    print(dips)\n",
    "    return int(np.sum(dips * (padded_a[1:-1,1:-1] + 1)))\n",
    "\n",
    "def explore(a, x, y, explored):\n",
    "    n, m = a.shape\n",
    "    if x >= 1 and a[x-1, y] > a[x, y] and explored[x-1, y] == 0 and a[x-1, y] != 9:\n",
    "        explored[x-1, y] = 1\n",
    "        explored = explore(a, x-1, y, explored)\n",
    "    if y >= 1 and a[x, y-1] > a[x, y] and explored[x, y-1] == 0 and a[x, y-1] != 9:\n",
    "        explored[x, y-1] = 1\n",
    "        explored = explore(a, x, y-1, explored)\n",
    "    if x < n-1 and a[x+1, y] > a[x, y] and explored[x+1, y] == 0 and a[x+1, y] != 9:\n",
    "        explored[x+1, y] = 1\n",
    "        explored = explore(a, x+1, y, explored)\n",
    "    if y < m-1 and a[x, y+1] > a[x, y] and explored[x, y+1] == 0 and a[x, y+1] != 9:\n",
    "        explored[x, y+1] = 1\n",
    "        explored = explore(a, x, y+1, explored)\n",
    "    return explored\n",
    "\n",
    "def find_basin_size(a, x, y):\n",
    "    explored = np.zeros(a.shape)\n",
    "    explored[x, y] = 1\n",
    "    return np.sum(explore(a, x, y, explored))\n",
    "\n",
    "def solve2(a):\n",
    "    n, m = a.shape\n",
    "    padded_a = np.ones((n+2, m+2)) * 9\n",
    "    padded_a[1:-1, 1:-1] = a\n",
    "    dips = (padded_a[1:-1,1:-1] < padded_a[:-2,1:-1]).astype(int)\n",
    "    dips *= (padded_a[1:-1,1:-1] < padded_a[1:-1,2:]).astype(int)\n",
    "    dips *= (padded_a[1:-1,1:-1] < padded_a[1:-1,:-2]).astype(int)\n",
    "    dips *= (padded_a[1:-1,1:-1] < padded_a[2:,1:-1]).astype(int)\n",
    "    basin_sizes = []\n",
    "    dip_x, dip_y = np.where(dips)\n",
    "    for x, y in zip(dip_x, dip_y):\n",
    "        basin_sizes.append(find_basin_size(a, x, y))\n",
    "    sorted_sizes = sorted(basin_sizes)\n",
    "    return int(sorted_sizes[-1] * sorted_sizes[-2] * sorted_sizes[-3])"
   ]
  },
  {
   "cell_type": "code",
   "execution_count": 52,
   "metadata": {},
   "outputs": [
    {
     "name": "stdout",
     "output_type": "stream",
     "text": [
      "[[2 1 9 9 9 4 3 2 1 0]\n",
      " [3 9 8 7 8 9 4 9 2 1]\n",
      " [9 8 5 6 7 8 9 8 9 2]\n",
      " [8 7 6 7 8 9 6 7 8 9]\n",
      " [9 8 9 9 9 6 5 6 7 8]]\n",
      "[[0 1 0 0 0 0 0 0 0 1]\n",
      " [0 0 0 0 0 0 0 0 0 0]\n",
      " [0 0 1 0 0 0 0 0 0 0]\n",
      " [0 0 0 0 0 0 0 0 0 0]\n",
      " [0 0 0 0 0 0 1 0 0 0]]\n"
     ]
    },
    {
     "data": {
      "text/plain": [
       "15"
      ]
     },
     "execution_count": 52,
     "metadata": {},
     "output_type": "execute_result"
    }
   ],
   "source": [
    "solve1(test_arr)"
   ]
  },
  {
   "cell_type": "code",
   "execution_count": 56,
   "metadata": {},
   "outputs": [
    {
     "data": {
      "text/plain": [
       "array([[0., 0., 0., 0., 0., 1., 1., 1., 1., 0.],\n",
       "       [0., 0., 0., 0., 0., 0., 1., 0., 1., 1.],\n",
       "       [0., 0., 0., 0., 0., 0., 0., 0., 0., 1.],\n",
       "       [0., 0., 0., 0., 0., 0., 0., 0., 0., 0.],\n",
       "       [0., 0., 0., 0., 0., 0., 0., 0., 0., 0.]])"
      ]
     },
     "execution_count": 56,
     "metadata": {},
     "output_type": "execute_result"
    }
   ],
   "source": [
    "explore(test_arr, 0, 9, np.zeros((5, 10)))"
   ]
  },
  {
   "cell_type": "code",
   "execution_count": 60,
   "metadata": {},
   "outputs": [
    {
     "data": {
      "text/plain": [
       "1134"
      ]
     },
     "execution_count": 60,
     "metadata": {},
     "output_type": "execute_result"
    }
   ],
   "source": [
    "solve2(test_arr)"
   ]
  },
  {
   "cell_type": "code",
   "execution_count": 40,
   "metadata": {},
   "outputs": [
    {
     "data": {
      "text/plain": [
       "458"
      ]
     },
     "execution_count": 40,
     "metadata": {},
     "output_type": "execute_result"
    }
   ],
   "source": [
    "solve1(arr)"
   ]
  },
  {
   "cell_type": "code",
   "execution_count": 61,
   "metadata": {},
   "outputs": [
    {
     "data": {
      "text/plain": [
       "1391940"
      ]
     },
     "execution_count": 61,
     "metadata": {},
     "output_type": "execute_result"
    }
   ],
   "source": [
    "solve2(arr)"
   ]
  },
  {
   "cell_type": "code",
   "execution_count": null,
   "metadata": {},
   "outputs": [],
   "source": []
  }
 ],
 "metadata": {
  "kernelspec": {
   "display_name": "Python 3",
   "language": "python",
   "name": "python3"
  },
  "language_info": {
   "codemirror_mode": {
    "name": "ipython",
    "version": 3
   },
   "file_extension": ".py",
   "mimetype": "text/x-python",
   "name": "python",
   "nbconvert_exporter": "python",
   "pygments_lexer": "ipython3",
   "version": "3.8.10"
  }
 },
 "nbformat": 4,
 "nbformat_minor": 2
}
