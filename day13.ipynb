{
 "cells": [
  {
   "cell_type": "markdown",
   "metadata": {},
   "source": [
    "### Day 13"
   ]
  },
  {
   "cell_type": "code",
   "execution_count": 1,
   "metadata": {},
   "outputs": [],
   "source": [
    "import numpy as np\n",
    "from collections import defaultdict, Counter"
   ]
  },
  {
   "cell_type": "code",
   "execution_count": 2,
   "metadata": {},
   "outputs": [],
   "source": [
    "day_i = 13"
   ]
  },
  {
   "cell_type": "code",
   "execution_count": 3,
   "metadata": {},
   "outputs": [
    {
     "name": "stdout",
     "output_type": "stream",
     "text": [
      "Initializing day 13\n"
     ]
    }
   ],
   "source": [
    "%run start_day.py $day_i"
   ]
  },
  {
   "cell_type": "code",
   "execution_count": 4,
   "metadata": {},
   "outputs": [
    {
     "name": "stdout",
     "output_type": "stream",
     "text": [
      "/home/vincent/Documents/AdventOfCode/2021\n"
     ]
    }
   ],
   "source": [
    "cd /home/vincent/Documents/AdventOfCode/2021"
   ]
  },
  {
   "cell_type": "code",
   "execution_count": 5,
   "metadata": {},
   "outputs": [],
   "source": [
    "PATH = f\"day{day_i}/input{day_i}\""
   ]
  },
  {
   "cell_type": "code",
   "execution_count": 6,
   "metadata": {},
   "outputs": [
    {
     "name": "stdout",
     "output_type": "stream",
     "text": [
      "865 day13/input13\r\n"
     ]
    }
   ],
   "source": [
    "!wc -l $PATH"
   ]
  },
  {
   "cell_type": "code",
   "execution_count": 7,
   "metadata": {},
   "outputs": [
    {
     "name": "stdout",
     "output_type": "stream",
     "text": [
      "1118,85\r\n",
      "1064,690\r\n",
      "560,670\r\n",
      "68,446\r\n",
      "769,668\r\n",
      "88,219\r\n",
      "120,255\r\n",
      "925,879\r\n",
      "112,512\r\n",
      "1064,652\r\n"
     ]
    }
   ],
   "source": [
    "!head $PATH"
   ]
  },
  {
   "cell_type": "code",
   "execution_count": 8,
   "metadata": {},
   "outputs": [
    {
     "name": "stdout",
     "output_type": "stream",
     "text": [
      "fold along x=327\r\n",
      "fold along y=223\r\n",
      "fold along x=163\r\n",
      "fold along y=111\r\n",
      "fold along x=81\r\n",
      "fold along y=55\r\n",
      "fold along x=40\r\n",
      "fold along y=27\r\n",
      "fold along y=13\r\n",
      "fold along y=6\r\n"
     ]
    }
   ],
   "source": [
    "!tail $PATH"
   ]
  },
  {
   "cell_type": "code",
   "execution_count": 19,
   "metadata": {},
   "outputs": [],
   "source": [
    "def parse_input(inp):\n",
    "    dots = []\n",
    "    folds = []\n",
    "    for x in inp:\n",
    "        if x.startswith('fold'):\n",
    "            s = x[11:].split('=')\n",
    "            folds.append((s[0], int(s[1])))\n",
    "        elif x != '':\n",
    "            dots.append(list(map(int, x.split(','))))\n",
    "    return dots, folds"
   ]
  },
  {
   "cell_type": "code",
   "execution_count": 22,
   "metadata": {},
   "outputs": [],
   "source": [
    "# real input\n",
    "with open(PATH, 'r') as f:\n",
    "    dots, folds = parse_input([x.strip() for x in f.readlines()])\n"
   ]
  },
  {
   "cell_type": "code",
   "execution_count": 151,
   "metadata": {},
   "outputs": [],
   "source": [
    "# test input\n",
    "test_str1 = \"\"\"6,10\n",
    "0,14\n",
    "9,10\n",
    "0,3\n",
    "10,4\n",
    "4,11\n",
    "6,0\n",
    "6,12\n",
    "4,1\n",
    "0,13\n",
    "10,12\n",
    "3,4\n",
    "3,0\n",
    "8,4\n",
    "1,10\n",
    "2,14\n",
    "8,10\n",
    "9,0\n",
    "\n",
    "fold along y=7\n",
    "fold along x=5\"\"\"\n",
    "\n",
    "test_str2 = \"\"\"3,20\n",
    "5,964\n",
    "352,94\n",
    "351,0\n",
    "74,660\n",
    "73,0\n",
    "11,236\n",
    "376,52\n",
    "163,262\n",
    "108,0\n",
    "15,236\n",
    "17,174\n",
    "21,458\n",
    "300,446\n",
    "25,114\n",
    "26,912\n",
    "487,780\n",
    "328,478\n",
    "31,458\n",
    "3,33\n",
    "717,851\n",
    "11,747\n",
    "15,243\n",
    "111,901\n",
    "661,113\n",
    "699,1\n",
    "118,1\n",
    "603,235\n",
    "150,729\n",
    "695,235\n",
    "148,33\n",
    "123,33\n",
    "416,113\n",
    "327,1\n",
    "308,477\n",
    "3,96\n",
    "5,914\n",
    "76,124\n",
    "7,218\n",
    "71,476\n",
    "12,962\n",
    "195,112\n",
    "14,50\n",
    "161,930\n",
    "17,2\n",
    "18,840\n",
    "701,730\n",
    "23,2\n",
    "698,2\n",
    "697,112\n",
    "56,2\n",
    "27,444\n",
    "28,730\n",
    "693,962\n",
    "30,382\n",
    "145,234\n",
    "32,428\n",
    "355,367\n",
    "99,961\n",
    "11,17\n",
    "109,49\n",
    "563,17\n",
    "521,3\n",
    "21,3\n",
    "334,3\n",
    "333,233\n",
    "696,3\n",
    "27,187\n",
    "28,49\n",
    "693,3\n",
    "306,867\n",
    "415,3\n",
    "719,16\n",
    "5,948\n",
    "11,220\n",
    "15,48\n",
    "17,4\n",
    "21,368\n",
    "26,732\n",
    "27,854\n",
    "694,340\n",
    "29,474\n",
    "182,109\n",
    "175,473\n",
    "262,949\n",
    "369,959\n",
    "100,15\n",
    "7,369\n",
    "714,99\n",
    "713,411\n",
    "11,67\n",
    "15,109\n",
    "247,431\n",
    "61,5\n",
    "331,733\n",
    "694,247\n",
    "\n",
    "fold along y=482\n",
    "fold along x=361\n",
    "fold along x=179\n",
    "fold along y=239\n",
    "fold along x=88\n",
    "fold along x=41\n",
    "fold along y=118\n",
    "fold along y=57\n",
    "fold along y=26\n",
    "fold along y=10\"\"\"\n",
    "\n",
    "dots_1, folds_1 = parse_input(test_str1.split('\\n'))\n",
    "dots_2, folds_2 = parse_input(test_str2.split('\\n'))"
   ]
  },
  {
   "cell_type": "code",
   "execution_count": 89,
   "metadata": {},
   "outputs": [
    {
     "data": {
      "text/plain": [
       "852"
      ]
     },
     "execution_count": 89,
     "metadata": {},
     "output_type": "execute_result"
    }
   ],
   "source": [
    "len(dots)"
   ]
  },
  {
   "cell_type": "code",
   "execution_count": 153,
   "metadata": {},
   "outputs": [],
   "source": [
    "def make_grid(dts):\n",
    "    m = max([x[0] for x in dts])+1\n",
    "    n = max([x[1] for x in dts])+1\n",
    "    grid = np.zeros((n, m), dtype=int)\n",
    "    for x, y in dts:\n",
    "        grid[y, x] = 1\n",
    "    return grid\n",
    "\n",
    "def make_fold(grid, fld):\n",
    "    ax, n = fld\n",
    "    print(grid.shape, ax, n)\n",
    "    bound1, bound2 = n, n+1\n",
    "    new_grid = grid[:bound1, :] if ax == 'y' else grid[:, :bound1]\n",
    "    mirror = np.flip(grid[bound2:, :], axis=0) if ax == 'y' else np.flip(grid[:, bound2:], axis=1)\n",
    "    overlap = np.zeros_like(new_grid)\n",
    "    if ax == 'y':\n",
    "        overlap[(-mirror.shape[0]):, :] = mirror[:,:]\n",
    "    else:\n",
    "        overlap[:, (-mirror.shape[1]):] = mirror[:,:]\n",
    "#     print(bound1, bound2, new_grid.shape, mirror.shape)\n",
    "    new_grid = np.logical_or(new_grid, overlap)\n",
    "#     print(new_grid.astype(int))\n",
    "    return new_grid\n",
    "\n",
    "def pprint(arr):\n",
    "    symbol = ['.', '#']\n",
    "    print('\\n'.join([''.join([symbol[x] for x in y]) for y in arr[:,:]]))\n",
    "\n",
    "def solve2(dts, flds):\n",
    "    grid = make_grid(dts)\n",
    "    for fld in flds:\n",
    "        grid = make_fold(grid, fld)\n",
    "    pprint(grid.astype(int))\n",
    "    return np.sum(grid)"
   ]
  },
  {
   "cell_type": "code",
   "execution_count": 154,
   "metadata": {},
   "outputs": [
    {
     "name": "stdout",
     "output_type": "stream",
     "text": [
      "(15, 11) y 7\n",
      "(7, 11) x 5\n",
      "#####\n",
      "#...#\n",
      "#...#\n",
      "#...#\n",
      "#####\n",
      ".....\n",
      ".....\n"
     ]
    },
    {
     "data": {
      "text/plain": [
       "16"
      ]
     },
     "execution_count": 154,
     "metadata": {},
     "output_type": "execute_result"
    }
   ],
   "source": [
    "solve2(dots_1, folds_1)"
   ]
  },
  {
   "cell_type": "code",
   "execution_count": 155,
   "metadata": {},
   "outputs": [
    {
     "name": "stdout",
     "output_type": "stream",
     "text": [
      "(892, 1310) x 655\n",
      "(892, 655) y 447\n",
      "(447, 655) x 327\n",
      "(447, 327) y 223\n",
      "(223, 327) x 163\n",
      "(223, 163) y 111\n",
      "(111, 163) x 81\n",
      "(111, 81) y 55\n",
      "(55, 81) x 40\n",
      "(55, 40) y 27\n",
      "(27, 40) y 13\n",
      "(13, 40) y 6\n",
      "#....###..####...##.###....##.####.#..#.\n",
      "#....#..#.#.......#.#..#....#.#....#..#.\n",
      "#....#..#.###.....#.###.....#.###..####.\n",
      "#....###..#.......#.#..#....#.#....#..#.\n",
      "#....#.#..#....#..#.#..#.#..#.#....#..#.\n",
      "####.#..#.#.....##..###...##..####.#..#.\n"
     ]
    },
    {
     "data": {
      "text/plain": [
       "95"
      ]
     },
     "execution_count": 155,
     "metadata": {},
     "output_type": "execute_result"
    }
   ],
   "source": [
    "solve2(dots, folds)"
   ]
  },
  {
   "cell_type": "code",
   "execution_count": 157,
   "metadata": {},
   "outputs": [
    {
     "name": "stdout",
     "output_type": "stream",
     "text": [
      "(965, 720) y 482\n",
      "(482, 720) x 361\n",
      "(482, 361) x 179\n"
     ]
    },
    {
     "ename": "ValueError",
     "evalue": "could not broadcast input array from shape (482,181) into shape (482,179)",
     "output_type": "error",
     "traceback": [
      "\u001b[0;31m---------------------------------------------------------------------------\u001b[0m",
      "\u001b[0;31mValueError\u001b[0m                                Traceback (most recent call last)",
      "\u001b[0;32m<ipython-input-157-f4ea658ac69f>\u001b[0m in \u001b[0;36m<module>\u001b[0;34m\u001b[0m\n\u001b[0;32m----> 1\u001b[0;31m \u001b[0msolve2\u001b[0m\u001b[0;34m(\u001b[0m\u001b[0mdots_2\u001b[0m\u001b[0;34m,\u001b[0m \u001b[0mfolds_2\u001b[0m\u001b[0;34m)\u001b[0m\u001b[0;34m\u001b[0m\u001b[0;34m\u001b[0m\u001b[0m\n\u001b[0m",
      "\u001b[0;32m<ipython-input-153-1fa6a9d38386>\u001b[0m in \u001b[0;36msolve2\u001b[0;34m(dts, flds)\u001b[0m\n\u001b[1;32m     30\u001b[0m     \u001b[0mgrid\u001b[0m \u001b[0;34m=\u001b[0m \u001b[0mmake_grid\u001b[0m\u001b[0;34m(\u001b[0m\u001b[0mdts\u001b[0m\u001b[0;34m)\u001b[0m\u001b[0;34m\u001b[0m\u001b[0;34m\u001b[0m\u001b[0m\n\u001b[1;32m     31\u001b[0m     \u001b[0;32mfor\u001b[0m \u001b[0mfld\u001b[0m \u001b[0;32min\u001b[0m \u001b[0mflds\u001b[0m\u001b[0;34m:\u001b[0m\u001b[0;34m\u001b[0m\u001b[0;34m\u001b[0m\u001b[0m\n\u001b[0;32m---> 32\u001b[0;31m         \u001b[0mgrid\u001b[0m \u001b[0;34m=\u001b[0m \u001b[0mmake_fold\u001b[0m\u001b[0;34m(\u001b[0m\u001b[0mgrid\u001b[0m\u001b[0;34m,\u001b[0m \u001b[0mfld\u001b[0m\u001b[0;34m)\u001b[0m\u001b[0;34m\u001b[0m\u001b[0;34m\u001b[0m\u001b[0m\n\u001b[0m\u001b[1;32m     33\u001b[0m     \u001b[0mpprint\u001b[0m\u001b[0;34m(\u001b[0m\u001b[0mgrid\u001b[0m\u001b[0;34m.\u001b[0m\u001b[0mastype\u001b[0m\u001b[0;34m(\u001b[0m\u001b[0mint\u001b[0m\u001b[0;34m)\u001b[0m\u001b[0;34m)\u001b[0m\u001b[0;34m\u001b[0m\u001b[0;34m\u001b[0m\u001b[0m\n\u001b[1;32m     34\u001b[0m     \u001b[0;32mreturn\u001b[0m \u001b[0mnp\u001b[0m\u001b[0;34m.\u001b[0m\u001b[0msum\u001b[0m\u001b[0;34m(\u001b[0m\u001b[0mgrid\u001b[0m\u001b[0;34m)\u001b[0m\u001b[0;34m\u001b[0m\u001b[0;34m\u001b[0m\u001b[0m\n",
      "\u001b[0;32m<ipython-input-153-1fa6a9d38386>\u001b[0m in \u001b[0;36mmake_fold\u001b[0;34m(grid, fld)\u001b[0m\n\u001b[1;32m     17\u001b[0m         \u001b[0moverlap\u001b[0m\u001b[0;34m[\u001b[0m\u001b[0;34m(\u001b[0m\u001b[0;34m-\u001b[0m\u001b[0mmirror\u001b[0m\u001b[0;34m.\u001b[0m\u001b[0mshape\u001b[0m\u001b[0;34m[\u001b[0m\u001b[0;36m0\u001b[0m\u001b[0;34m]\u001b[0m\u001b[0;34m)\u001b[0m\u001b[0;34m:\u001b[0m\u001b[0;34m,\u001b[0m \u001b[0;34m:\u001b[0m\u001b[0;34m]\u001b[0m \u001b[0;34m=\u001b[0m \u001b[0mmirror\u001b[0m\u001b[0;34m[\u001b[0m\u001b[0;34m:\u001b[0m\u001b[0;34m,\u001b[0m\u001b[0;34m:\u001b[0m\u001b[0;34m]\u001b[0m\u001b[0;34m\u001b[0m\u001b[0;34m\u001b[0m\u001b[0m\n\u001b[1;32m     18\u001b[0m     \u001b[0;32melse\u001b[0m\u001b[0;34m:\u001b[0m\u001b[0;34m\u001b[0m\u001b[0;34m\u001b[0m\u001b[0m\n\u001b[0;32m---> 19\u001b[0;31m         \u001b[0moverlap\u001b[0m\u001b[0;34m[\u001b[0m\u001b[0;34m:\u001b[0m\u001b[0;34m,\u001b[0m \u001b[0;34m(\u001b[0m\u001b[0;34m-\u001b[0m\u001b[0mmirror\u001b[0m\u001b[0;34m.\u001b[0m\u001b[0mshape\u001b[0m\u001b[0;34m[\u001b[0m\u001b[0;36m1\u001b[0m\u001b[0;34m]\u001b[0m\u001b[0;34m)\u001b[0m\u001b[0;34m:\u001b[0m\u001b[0;34m]\u001b[0m \u001b[0;34m=\u001b[0m \u001b[0mmirror\u001b[0m\u001b[0;34m[\u001b[0m\u001b[0;34m:\u001b[0m\u001b[0;34m,\u001b[0m\u001b[0;34m:\u001b[0m\u001b[0;34m]\u001b[0m\u001b[0;34m\u001b[0m\u001b[0;34m\u001b[0m\u001b[0m\n\u001b[0m\u001b[1;32m     20\u001b[0m \u001b[0;31m#     print(bound1, bound2, new_grid.shape, mirror.shape)\u001b[0m\u001b[0;34m\u001b[0m\u001b[0;34m\u001b[0m\u001b[0;34m\u001b[0m\u001b[0m\n\u001b[1;32m     21\u001b[0m     \u001b[0mnew_grid\u001b[0m \u001b[0;34m=\u001b[0m \u001b[0mnp\u001b[0m\u001b[0;34m.\u001b[0m\u001b[0mlogical_or\u001b[0m\u001b[0;34m(\u001b[0m\u001b[0mnew_grid\u001b[0m\u001b[0;34m,\u001b[0m \u001b[0moverlap\u001b[0m\u001b[0;34m)\u001b[0m\u001b[0;34m\u001b[0m\u001b[0;34m\u001b[0m\u001b[0m\n",
      "\u001b[0;31mValueError\u001b[0m: could not broadcast input array from shape (482,181) into shape (482,179)"
     ]
    }
   ],
   "source": [
    "solve2(dots_2, folds_2)"
   ]
  },
  {
   "cell_type": "code",
   "execution_count": null,
   "metadata": {},
   "outputs": [],
   "source": [
    "solve2()"
   ]
  }
 ],
 "metadata": {
  "kernelspec": {
   "display_name": "Python 3",
   "language": "python",
   "name": "python3"
  },
  "language_info": {
   "codemirror_mode": {
    "name": "ipython",
    "version": 3
   },
   "file_extension": ".py",
   "mimetype": "text/x-python",
   "name": "python",
   "nbconvert_exporter": "python",
   "pygments_lexer": "ipython3",
   "version": "3.8.10"
  }
 },
 "nbformat": 4,
 "nbformat_minor": 2
}
