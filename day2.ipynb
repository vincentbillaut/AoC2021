{
 "cells": [
  {
   "cell_type": "markdown",
   "metadata": {},
   "source": [
    "### Day 1 "
   ]
  },
  {
   "cell_type": "code",
   "execution_count": 17,
   "metadata": {},
   "outputs": [],
   "source": [
    "day_i = 2"
   ]
  },
  {
   "cell_type": "code",
   "execution_count": 27,
   "metadata": {},
   "outputs": [
    {
     "name": "stdout",
     "output_type": "stream",
     "text": [
      "Initializing day 2\n"
     ]
    }
   ],
   "source": [
    "%run start_day.py $day_i"
   ]
  },
  {
   "cell_type": "code",
   "execution_count": 19,
   "metadata": {},
   "outputs": [
    {
     "name": "stdout",
     "output_type": "stream",
     "text": [
      "/home/vincent/Documents/AdventOfCode/2021\n"
     ]
    }
   ],
   "source": [
    "cd /home/vincent/Documents/AdventOfCode/2021"
   ]
  },
  {
   "cell_type": "code",
   "execution_count": 20,
   "metadata": {},
   "outputs": [],
   "source": [
    "PATH = f\"day{day_i}/input{day_i}\""
   ]
  },
  {
   "cell_type": "code",
   "execution_count": 21,
   "metadata": {},
   "outputs": [
    {
     "name": "stdout",
     "output_type": "stream",
     "text": [
      "forward 1\r\n",
      "down 3\r\n",
      "down 2\r\n",
      "up 1\r\n",
      "down 7\r\n",
      "down 8\r\n",
      "forward 6\r\n",
      "forward 1\r\n",
      "forward 1\r\n",
      "down 6\r\n"
     ]
    }
   ],
   "source": [
    "!head $PATH"
   ]
  },
  {
   "cell_type": "code",
   "execution_count": 22,
   "metadata": {},
   "outputs": [
    {
     "data": {
      "text/plain": [
       "1000"
      ]
     },
     "execution_count": 22,
     "metadata": {},
     "output_type": "execute_result"
    }
   ],
   "source": [
    "l = []\n",
    "with open(PATH, 'r') as f:\n",
    "    for i in f:\n",
    "        s = i.strip().split()\n",
    "        l.append((s[0], int(s[1])))\n",
    "len(l)"
   ]
  },
  {
   "cell_type": "code",
   "execution_count": 23,
   "metadata": {},
   "outputs": [
    {
     "data": {
      "text/plain": [
       "[('forward', 1), ('down', 3), ('down', 2), ('up', 1), ('down', 7)]"
      ]
     },
     "execution_count": 23,
     "metadata": {},
     "output_type": "execute_result"
    }
   ],
   "source": [
    "l[:5]"
   ]
  },
  {
   "cell_type": "code",
   "execution_count": 26,
   "metadata": {},
   "outputs": [
    {
     "name": "stdout",
     "output_type": "stream",
     "text": [
      "1727785422\n"
     ]
    }
   ],
   "source": [
    "hor, dep, aim = 0, 0, 0\n",
    "for direc, n in l:\n",
    "    if direc == 'forward':\n",
    "        hor += n\n",
    "        dep += aim * n\n",
    "    elif direc == 'down':\n",
    "        aim += n\n",
    "    elif direc == 'up':\n",
    "        aim -= n\n",
    "print(hor * dep)"
   ]
  },
  {
   "cell_type": "code",
   "execution_count": null,
   "metadata": {},
   "outputs": [],
   "source": []
  }
 ],
 "metadata": {
  "kernelspec": {
   "display_name": "Python 3",
   "language": "python",
   "name": "python3"
  },
  "language_info": {
   "codemirror_mode": {
    "name": "ipython",
    "version": 3
   },
   "file_extension": ".py",
   "mimetype": "text/x-python",
   "name": "python",
   "nbconvert_exporter": "python",
   "pygments_lexer": "ipython3",
   "version": "3.8.10"
  }
 },
 "nbformat": 4,
 "nbformat_minor": 2
}
