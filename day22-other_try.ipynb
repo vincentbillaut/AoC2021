{
 "cells": [
  {
   "cell_type": "markdown",
   "metadata": {},
   "source": [
    "### Day 22"
   ]
  },
  {
   "cell_type": "code",
   "execution_count": 12,
   "metadata": {},
   "outputs": [],
   "source": [
    "import numpy as np\n",
    "import re\n",
    "import time\n",
    "from collections import defaultdict, Counter"
   ]
  },
  {
   "cell_type": "code",
   "execution_count": 2,
   "metadata": {},
   "outputs": [],
   "source": [
    "day_i = 22"
   ]
  },
  {
   "cell_type": "code",
   "execution_count": 3,
   "metadata": {},
   "outputs": [
    {
     "name": "stdout",
     "output_type": "stream",
     "text": [
      "Initializing day 22\n"
     ]
    }
   ],
   "source": [
    "%run start_day.py $day_i"
   ]
  },
  {
   "cell_type": "code",
   "execution_count": 4,
   "metadata": {},
   "outputs": [
    {
     "name": "stdout",
     "output_type": "stream",
     "text": [
      "/home/vincent/Documents/AdventOfCode/2021\n"
     ]
    }
   ],
   "source": [
    "cd /home/vincent/Documents/AdventOfCode/2021"
   ]
  },
  {
   "cell_type": "code",
   "execution_count": 4,
   "metadata": {},
   "outputs": [],
   "source": [
    "PATH = f\"day{day_i}/input{day_i}\""
   ]
  },
  {
   "cell_type": "code",
   "execution_count": 5,
   "metadata": {},
   "outputs": [
    {
     "name": "stdout",
     "output_type": "stream",
     "text": [
      "420 day22/input22\r\n"
     ]
    }
   ],
   "source": [
    "!wc -l $PATH"
   ]
  },
  {
   "cell_type": "code",
   "execution_count": 6,
   "metadata": {},
   "outputs": [
    {
     "name": "stdout",
     "output_type": "stream",
     "text": [
      "on x=-19..34,y=-11..39,z=-31..17\r\n",
      "on x=-15..35,y=-32..21,z=-32..21\r\n",
      "on x=-40..7,y=-34..14,z=-19..29\r\n",
      "on x=-5..49,y=-4..45,z=-9..42\r\n",
      "on x=-12..41,y=-41..13,z=-16..31\r\n",
      "on x=-45..7,y=-33..12,z=-31..21\r\n",
      "on x=-45..4,y=-39..15,z=-4..46\r\n",
      "on x=-43..8,y=-24..23,z=-4..48\r\n",
      "on x=-7..37,y=-30..14,z=-10..43\r\n",
      "on x=-1..49,y=-28..16,z=-33..18\r\n"
     ]
    }
   ],
   "source": [
    "!head $PATH"
   ]
  },
  {
   "cell_type": "code",
   "execution_count": 7,
   "metadata": {},
   "outputs": [
    {
     "name": "stdout",
     "output_type": "stream",
     "text": [
      "on x=32514..52495,y=-66819..-51196,z=23118..32227\r\n",
      "on x=60796..74791,y=45512..60873,z=-9921..8770\r\n",
      "off x=50888..75211,y=1882..24963,z=-52276..-33274\r\n",
      "on x=-36740..-22885,y=-75376..-61774,z=-21797..9467\r\n",
      "off x=50488..61801,y=49917..55978,z=-17192..11239\r\n",
      "on x=-50908..-40107,y=59280..71015,z=-19951..-1783\r\n",
      "off x=-46980..-35121,y=50260..77700,z=-29509..-6721\r\n",
      "on x=-81806..-66229,y=7652..27303,z=13204..34724\r\n",
      "on x=-67978..-54278,y=-67528..-33530,z=20917..39371\r\n",
      "on x=33071..41843,y=-81981..-57917,z=6776..21471\r\n"
     ]
    }
   ],
   "source": [
    "!tail $PATH"
   ]
  },
  {
   "cell_type": "code",
   "execution_count": 8,
   "metadata": {},
   "outputs": [],
   "source": [
    "def parse_input(inp):\n",
    "    instructions = []\n",
    "    for line in inp:\n",
    "        bounds_search = re.search(r\"(.*) x=(-?\\d+)\\.\\.(-?\\d+),y=(-?\\d+)\\.\\.(-?\\d+),z=(-?\\d+)\\.\\.(-?\\d+)\", line)\n",
    "        instruction = bounds_search.group(1)\n",
    "        xmin, xmax = int(bounds_search.group(2)), int(bounds_search.group(3))\n",
    "        ymin, ymax = int(bounds_search.group(4)), int(bounds_search.group(5))\n",
    "        zmin, zmax = int(bounds_search.group(6)), int(bounds_search.group(7))\n",
    "        instructions.append((instruction, (xmin, xmax, ymin, ymax, zmin, zmax)))\n",
    "    return instructions"
   ]
  },
  {
   "cell_type": "code",
   "execution_count": 9,
   "metadata": {},
   "outputs": [],
   "source": [
    "# real input\n",
    "with open(PATH, 'r') as f:\n",
    "    inputs = parse_input([x.strip() for x in f.readlines()])\n"
   ]
  },
  {
   "cell_type": "code",
   "execution_count": 10,
   "metadata": {},
   "outputs": [],
   "source": [
    "# test input\n",
    "test_str1 = \"\"\"on x=10..12,y=10..12,z=10..12\n",
    "on x=11..13,y=11..13,z=11..13\n",
    "off x=9..11,y=9..11,z=9..11\n",
    "on x=10..10,y=10..10,z=10..10\"\"\"\n",
    "\n",
    "test_str2 = \"\"\"on x=-20..26,y=-36..17,z=-47..7\n",
    "on x=-20..33,y=-21..23,z=-26..28\n",
    "on x=-22..28,y=-29..23,z=-38..16\n",
    "on x=-46..7,y=-6..46,z=-50..-1\n",
    "on x=-49..1,y=-3..46,z=-24..28\n",
    "on x=2..47,y=-22..22,z=-23..27\n",
    "on x=-27..23,y=-28..26,z=-21..29\n",
    "on x=-39..5,y=-6..47,z=-3..44\n",
    "on x=-30..21,y=-8..43,z=-13..34\n",
    "on x=-22..26,y=-27..20,z=-29..19\n",
    "off x=-48..-32,y=26..41,z=-47..-37\n",
    "on x=-12..35,y=6..50,z=-50..-2\n",
    "off x=-48..-32,y=-32..-16,z=-15..-5\n",
    "on x=-18..26,y=-33..15,z=-7..46\n",
    "off x=-40..-22,y=-38..-28,z=23..41\n",
    "on x=-16..35,y=-41..10,z=-47..6\n",
    "off x=-32..-23,y=11..30,z=-14..3\n",
    "on x=-49..-5,y=-3..45,z=-29..18\n",
    "off x=18..30,y=-20..-8,z=-3..13\n",
    "on x=-41..9,y=-7..43,z=-33..15\n",
    "on x=-54112..-39298,y=-85059..-49293,z=-27449..7877\n",
    "on x=967..23432,y=45373..81175,z=27513..53682\"\"\"\n",
    "\n",
    "test_str3 = \"\"\"on x=-5..47,y=-31..22,z=-19..33\n",
    "on x=-44..5,y=-27..21,z=-14..35\n",
    "on x=-49..-1,y=-11..42,z=-10..38\n",
    "on x=-20..34,y=-40..6,z=-44..1\n",
    "off x=26..39,y=40..50,z=-2..11\n",
    "on x=-41..5,y=-41..6,z=-36..8\n",
    "off x=-43..-33,y=-45..-28,z=7..25\n",
    "on x=-33..15,y=-32..19,z=-34..11\n",
    "off x=35..47,y=-46..-34,z=-11..5\n",
    "on x=-14..36,y=-6..44,z=-16..29\n",
    "on x=-57795..-6158,y=29564..72030,z=20435..90618\n",
    "on x=36731..105352,y=-21140..28532,z=16094..90401\n",
    "on x=30999..107136,y=-53464..15513,z=8553..71215\n",
    "on x=13528..83982,y=-99403..-27377,z=-24141..23996\n",
    "on x=-72682..-12347,y=18159..111354,z=7391..80950\n",
    "on x=-1060..80757,y=-65301..-20884,z=-103788..-16709\n",
    "on x=-83015..-9461,y=-72160..-8347,z=-81239..-26856\n",
    "on x=-52752..22273,y=-49450..9096,z=54442..119054\n",
    "on x=-29982..40483,y=-108474..-28371,z=-24328..38471\n",
    "on x=-4958..62750,y=40422..118853,z=-7672..65583\n",
    "on x=55694..108686,y=-43367..46958,z=-26781..48729\n",
    "on x=-98497..-18186,y=-63569..3412,z=1232..88485\n",
    "on x=-726..56291,y=-62629..13224,z=18033..85226\n",
    "on x=-110886..-34664,y=-81338..-8658,z=8914..63723\n",
    "on x=-55829..24974,y=-16897..54165,z=-121762..-28058\n",
    "on x=-65152..-11147,y=22489..91432,z=-58782..1780\n",
    "on x=-120100..-32970,y=-46592..27473,z=-11695..61039\n",
    "on x=-18631..37533,y=-124565..-50804,z=-35667..28308\n",
    "on x=-57817..18248,y=49321..117703,z=5745..55881\n",
    "on x=14781..98692,y=-1341..70827,z=15753..70151\n",
    "on x=-34419..55919,y=-19626..40991,z=39015..114138\n",
    "on x=-60785..11593,y=-56135..2999,z=-95368..-26915\n",
    "on x=-32178..58085,y=17647..101866,z=-91405..-8878\n",
    "on x=-53655..12091,y=50097..105568,z=-75335..-4862\n",
    "on x=-111166..-40997,y=-71714..2688,z=5609..50954\n",
    "on x=-16602..70118,y=-98693..-44401,z=5197..76897\n",
    "on x=16383..101554,y=4615..83635,z=-44907..18747\n",
    "off x=-95822..-15171,y=-19987..48940,z=10804..104439\n",
    "on x=-89813..-14614,y=16069..88491,z=-3297..45228\n",
    "on x=41075..99376,y=-20427..49978,z=-52012..13762\n",
    "on x=-21330..50085,y=-17944..62733,z=-112280..-30197\n",
    "on x=-16478..35915,y=36008..118594,z=-7885..47086\n",
    "off x=-98156..-27851,y=-49952..43171,z=-99005..-8456\n",
    "off x=2032..69770,y=-71013..4824,z=7471..94418\n",
    "on x=43670..120875,y=-42068..12382,z=-24787..38892\n",
    "off x=37514..111226,y=-45862..25743,z=-16714..54663\n",
    "off x=25699..97951,y=-30668..59918,z=-15349..69697\n",
    "off x=-44271..17935,y=-9516..60759,z=49131..112598\n",
    "on x=-61695..-5813,y=40978..94975,z=8655..80240\n",
    "off x=-101086..-9439,y=-7088..67543,z=33935..83858\n",
    "off x=18020..114017,y=-48931..32606,z=21474..89843\n",
    "off x=-77139..10506,y=-89994..-18797,z=-80..59318\n",
    "off x=8476..79288,y=-75520..11602,z=-96624..-24783\n",
    "on x=-47488..-1262,y=24338..100707,z=16292..72967\n",
    "off x=-84341..13987,y=2429..92914,z=-90671..-1318\n",
    "off x=-37810..49457,y=-71013..-7894,z=-105357..-13188\n",
    "off x=-27365..46395,y=31009..98017,z=15428..76570\n",
    "off x=-70369..-16548,y=22648..78696,z=-1892..86821\n",
    "on x=-53470..21291,y=-120233..-33476,z=-44150..38147\n",
    "off x=-93533..-4276,y=-16170..68771,z=-104985..-24507\"\"\"\n",
    "\n",
    "inputs_1 = parse_input(test_str1.split('\\n'))\n",
    "inputs_2 = parse_input(test_str2.split('\\n'))\n",
    "inputs_3 = parse_input(test_str3.split('\\n'))"
   ]
  },
  {
   "cell_type": "code",
   "execution_count": 11,
   "metadata": {},
   "outputs": [
    {
     "data": {
      "text/plain": [
       "[('on', (10, 12, 10, 12, 10, 12)),\n",
       " ('on', (11, 13, 11, 13, 11, 13)),\n",
       " ('off', (9, 11, 9, 11, 9, 11)),\n",
       " ('on', (10, 10, 10, 10, 10, 10))]"
      ]
     },
     "execution_count": 11,
     "metadata": {},
     "output_type": "execute_result"
    }
   ],
   "source": [
    "inputs_1"
   ]
  },
  {
   "cell_type": "code",
   "execution_count": 92,
   "metadata": {},
   "outputs": [],
   "source": [
    "def filter_init(inst):\n",
    "    res = []\n",
    "    for X in inst:\n",
    "        _, coords = X\n",
    "        if all(abs(x) <= 50 for x in coords):\n",
    "            res.append(X)\n",
    "    return res\n",
    "\n",
    "def resolve_cube(x, y, z, inst):\n",
    "    for i, coords in inst[::-1]:\n",
    "        xm, xM, ym, yM, zm, zM = coords\n",
    "        if xm <= x <= xM and ym <= y <= yM and zm <= z <= zM:\n",
    "            return int(i == 'on')\n",
    "    return 0\n",
    "\n",
    "def solve1(inp):\n",
    "    instructions = filter_init(inp)\n",
    "    s = 0\n",
    "    for x in range(-50, 51):\n",
    "        for y in range(-50, 51):\n",
    "            for z in range(-50, 51):\n",
    "                s += resolve_cube(x, y, z, instructions)\n",
    "    return s\n",
    "\n",
    "def solve1debug(inp):\n",
    "    instructions = filter_init(inp)\n",
    "    s = set()\n",
    "    for x in range(-50, 51):\n",
    "        for y in range(-50, 51):\n",
    "            for z in range(-50, 51):\n",
    "                if resolve_cube(x, y, z, instructions):\n",
    "                    s.add((x, y, z))\n",
    "    return s\n",
    "\n",
    "\n",
    "#################################\n",
    "def volume(coords):\n",
    "    if len(coords) == 0:\n",
    "        return 1\n",
    "    xm, xM = coords[0], coords[1]\n",
    "    return (xM + 1 - xm) * volume(coords[2:])\n",
    "    \n",
    "def intersects(coords1, coords2):\n",
    "    if len(coords1) == 0:\n",
    "        return True\n",
    "    xm1, xM1 = coords1[0], coords1[1]\n",
    "    xm2, xM2 = coords2[0], coords2[1]\n",
    "    return (xm1 <= xm2 <= xM1 or xm2 <= xm1 <= xM2) and intersects(coords1[2:], coords2[2:])\n",
    "\n",
    "def contained(coords1, coords2):\n",
    "    \"\"\"\n",
    "    Whether 1 is contained in 2\n",
    "    \"\"\"\n",
    "    if len(coords1) == 0:\n",
    "        return True\n",
    "    xm1, xM1 = coords1[0], coords1[1]\n",
    "    xm2, xM2 = coords2[0], coords2[1]\n",
    "    return xm2 <= xm1 <= xM1 <= xM2 and contained(coords1[2:], coords2[2:])\n",
    "    \n",
    "\n",
    "def rectangles(coords1, coords2):\n",
    "    xm1, xM1 = coords1[0], coords1[1]\n",
    "    xm2, xM2 = coords2[0], coords2[1]\n",
    "    zones = []\n",
    "    if xm1 == xM1:\n",
    "        if xm2 == xM2:\n",
    "            zones.append((xm1, xm1))\n",
    "        elif xm1 == xm2:\n",
    "            zones.append((xm1, xm1))\n",
    "            zones.append((xm1+1, xM2))\n",
    "        elif xm1 == xM2:\n",
    "            zones.append((xm2, xM2-1))\n",
    "            zones.append((xM2, xM2))\n",
    "        else:\n",
    "            zones.append((xm2, xm1-1))\n",
    "            zones.append((xm1, xm1))\n",
    "            zones.append((xm1+1, xM2))\n",
    "    elif xm2 == xM2:\n",
    "        if xm2 == xm1:\n",
    "            zones.append((xm1, xm1))\n",
    "            zones.append((xm1+1, xM1))\n",
    "        elif xm2 == xM1:\n",
    "            zones.append((xm1, xM1-1))\n",
    "            zones.append((xM1, xM1))\n",
    "        else:\n",
    "            zones.append((xm1, xm2-1))\n",
    "            zones.append((xm2, xm2))\n",
    "            zones.append((xm2+1, xM1))\n",
    "    else:  \n",
    "        if xm1 != xm2:\n",
    "            zones.append((min(xm1, xm2),max(xm1, xm2)-1))\n",
    "            zones.append((max(xm1, xm2),max(xm1, xm2)))\n",
    "        else:\n",
    "            zones.append((xm1, xm1))\n",
    "        if xM1 != xM2:\n",
    "            zones.append((max(xm1, xm2)+1, min(xM1, xM2)-1))\n",
    "            zones.append((min(xM1, xM2), min(xM1, xM2)))\n",
    "            zones.append((min(xM1, xM2)+1, max(xM1, xM2)))\n",
    "        else:\n",
    "            zones.append((max(xm1, xm2)+1, xM1-1))\n",
    "            zones.append((xM1, xM1))\n",
    "    # recursion below\n",
    "    if len(coords1) == 2:\n",
    "        return zones\n",
    "    else:\n",
    "        rect = rectangles(coords1[2:], coords2[2:])\n",
    "        new_zones = []\n",
    "        for z in zones:\n",
    "            for r in rect:\n",
    "                new_zones.append((*z, *r))\n",
    "        return new_zones\n",
    "\n",
    "def adjacent(A, B):\n",
    "    a1, a2, b1, b2, c1, c2 = A\n",
    "    x1, x2, y1, y2, z1, z2 = B\n",
    "    if (a1, a2) != (x1, x2):\n",
    "        return (b1, b2) == (y1, y2) and (c1, c2) == (z1 , z2) and (a2 + 1 == x1 or x2 + 1 == a1)\n",
    "    elif (b1, b2) != (y1, y2):\n",
    "        return (c1, c2) == (z1 , z2) and (b2 + 1 == y1 or y2 + 1 == b1)\n",
    "    else:\n",
    "        return (c2 + 1 == z1 or z2 + 1 == c1)\n",
    "    \n",
    "def merge(A, B):\n",
    "    if contained(A, B):\n",
    "        return B\n",
    "    if contained(B, A):\n",
    "        return A\n",
    "    a1, a2, b1, b2, c1, c2 = A\n",
    "    x1, x2, y1, y2, z1, z2 = B\n",
    "    if (a1, a2) != (x1, x2):\n",
    "        return (min(a1, x1), max(a2, x2), b1, b2, c1, c2)\n",
    "    elif (b1, b2) != (y1, y2):\n",
    "        return (a1, a2, min(b1, y1), max(b2, y2), c1, c2)\n",
    "    else:\n",
    "        return (a1, a2, b1, b2, min(c1, z1), max(c2, z2))\n",
    "    \n",
    "def reduce_list(l, debug=False):\n",
    "    l_sort = sorted(list(set(l)))\n",
    "    for i in range(len(l_sort) - 1):\n",
    "        if adjacent(l_sort[i], l_sort[i+1]):\n",
    "            new_list = l_sort[:i].copy() + [merge(l_sort[i], l_sort[i+1])] + l_sort[i+2:].copy()\n",
    "            return reduce_list(new_list, debug)\n",
    "    return l_sort\n",
    "\n",
    "def outside_of(coords1, coords2):\n",
    "    \"\"\"\n",
    "    Returns the rectangles where coords1 is outside of coords2\n",
    "    \"\"\"\n",
    "    rect = rectangles(coords1, coords2)\n",
    "    final = []\n",
    "    for r in rect:\n",
    "        if contained(r, coords1) and not contained(r, coords2):\n",
    "            final.append(r)\n",
    "    assert sum(volume(x) for x in set(final)) == sum(volume(x) for x in reduce_list(final)), f\"{final}\\n{reduce_list(final)}\"\n",
    "    return reduce_list(final)\n",
    "    \n",
    "def incorporate(coords, ons, offs):\n",
    "    \"\"\"\n",
    "    Assume it's called with i == 'on', or switch the arguments ons and offs\n",
    "    \"\"\"\n",
    "    # we need to turn cubes on\n",
    "    # we go over the ones that we know are off, to make sure we keep them off\n",
    "    to_add = [coords]\n",
    "    for coords_off in offs:\n",
    "        new_to_add = []\n",
    "        while len(to_add) > 0:\n",
    "            coords_on = to_add.pop()\n",
    "            if intersects(coords_on, coords_off):\n",
    "                if not contained(coords_on, coords_off):\n",
    "                    new_to_add.extend(outside_of(coords_on, coords_off))\n",
    "            else:\n",
    "                new_to_add.append(coords_on)\n",
    "        to_add = new_to_add\n",
    "    # now that we have a list of areas we know should be on, we apply the same\n",
    "    # process as before, to make sure we're not double counting regions\n",
    "    for coords_already_on in ons:\n",
    "        new_to_add = []\n",
    "        while len(to_add) > 0:\n",
    "            coords_on = to_add.pop()\n",
    "            if intersects(coords_on, coords_already_on):\n",
    "                if not contained(coords_on, coords_already_on):\n",
    "                    new_to_add.extend(outside_of(coords_on, coords_already_on))\n",
    "            else:\n",
    "                new_to_add.append(coords_on)\n",
    "        to_add = new_to_add\n",
    "    to_add = set(to_add)\n",
    "    return ons.union(to_add)\n",
    "            \n",
    "def solve2(instructions, debug=False):\n",
    "    start_time = time.time()\n",
    "    ons = set()\n",
    "    offs = set()\n",
    "    t=0\n",
    "    for i, coords in instructions[::-1]:\n",
    "        t += 1\n",
    "        if t % 10 == 0: \n",
    "            time_it = round(time.time() - start_time)\n",
    "            print(f\"step {t}/{len(instructions)} - {time_it//60}min{time_it%60}s - {len(ons)}, {len(offs)}\")\n",
    "        if i == 'on': ons = incorporate(coords, ons, offs)\n",
    "        else: offs = incorporate(coords, offs, ons)\n",
    "    if debug:\n",
    "        print(sum(volume(zone) for zone in ons))\n",
    "        return ons, offs\n",
    "    return sum(volume(zone) for zone in ons)"
   ]
  },
  {
   "cell_type": "code",
   "execution_count": 54,
   "metadata": {
    "scrolled": true
   },
   "outputs": [
    {
     "data": {
      "text/plain": [
       "[(1, 4, 1, 10, 1, 1), (5, 9, 9, 10, 1, 1), (10, 10, 1, 10, 1, 1)]"
      ]
     },
     "execution_count": 54,
     "metadata": {},
     "output_type": "execute_result"
    }
   ],
   "source": [
    "outside_of((1, 10, 1, 10, 1, 1),(5, 9, 1, 8, 1, 1))"
   ]
  },
  {
   "cell_type": "code",
   "execution_count": 55,
   "metadata": {},
   "outputs": [
    {
     "data": {
      "text/plain": [
       "[(1, 4, 1, 10, 1, 1), (5, 9, 9, 10, 1, 1), (10, 10, 1, 10, 1, 1)]"
      ]
     },
     "execution_count": 55,
     "metadata": {},
     "output_type": "execute_result"
    }
   ],
   "source": [
    "reduce_list(_29)"
   ]
  },
  {
   "cell_type": "code",
   "execution_count": 27,
   "metadata": {},
   "outputs": [
    {
     "data": {
      "text/plain": [
       "(1, 4, 1, 7, 1, 1)"
      ]
     },
     "execution_count": 27,
     "metadata": {},
     "output_type": "execute_result"
    }
   ],
   "source": [
    "merge((1, 4, 1, 1, 1, 1),\n",
    " (1, 4, 2, 7, 1, 1))"
   ]
  },
  {
   "cell_type": "code",
   "execution_count": 91,
   "metadata": {},
   "outputs": [
    {
     "data": {
      "text/plain": [
       "[]"
      ]
     },
     "execution_count": 91,
     "metadata": {},
     "output_type": "execute_result"
    }
   ],
   "source": [
    "outside_of((1, 5, 1, 5), (1, 10, 1, 5))"
   ]
  },
  {
   "cell_type": "code",
   "execution_count": 20,
   "metadata": {},
   "outputs": [
    {
     "data": {
      "text/plain": [
       "39"
      ]
     },
     "execution_count": 20,
     "metadata": {},
     "output_type": "execute_result"
    }
   ],
   "source": [
    "solve1(inputs_1)"
   ]
  },
  {
   "cell_type": "code",
   "execution_count": 27,
   "metadata": {},
   "outputs": [
    {
     "data": {
      "text/plain": [
       "590784"
      ]
     },
     "execution_count": 27,
     "metadata": {},
     "output_type": "execute_result"
    }
   ],
   "source": [
    "solve1(inputs_2)"
   ]
  },
  {
   "cell_type": "code",
   "execution_count": 28,
   "metadata": {},
   "outputs": [
    {
     "data": {
      "text/plain": [
       "602574"
      ]
     },
     "execution_count": 28,
     "metadata": {},
     "output_type": "execute_result"
    }
   ],
   "source": [
    "solve1(inputs)"
   ]
  },
  {
   "cell_type": "code",
   "execution_count": 93,
   "metadata": {
    "scrolled": false
   },
   "outputs": [
    {
     "name": "stdout",
     "output_type": "stream",
     "text": [
      "step 10/20 - 0min0s - 224, 3\n",
      "step 20/20 - 0min1s - 1153, 4\n",
      "CPU times: user 932 ms, sys: 4 ms, total: 936 ms\n",
      "Wall time: 939 ms\n"
     ]
    },
    {
     "data": {
      "text/plain": [
       "590784"
      ]
     },
     "execution_count": 93,
     "metadata": {},
     "output_type": "execute_result"
    }
   ],
   "source": [
    "%%time\n",
    "solve2(inputs_2[:-2])"
   ]
  },
  {
   "cell_type": "code",
   "execution_count": 85,
   "metadata": {},
   "outputs": [
    {
     "name": "stdout",
     "output_type": "stream",
     "text": [
      "[(-22, -16, -27, -4, -29, 18), (-22, -16, -27, -4, 19, 19), (-22, -16, -3, -3, -29, 18), (-22, -16, -3, -3, 19, 19), (-22, -16, -2, 14, -29, 18), (-22, -16, -2, 14, 19, 19), (-22, -16, 15, 15, -29, 18), (-22, -16, 15, 15, 19, 19), (-22, -16, 16, 20, -29, 18), (-22, -16, 16, 20, 19, 19), (-15, -15, -27, -4, -29, 18), (-15, -15, -27, -4, 19, 19), (-15, -15, -3, -3, -29, 18), (-15, -15, -2, 14, -29, 18), (-15, -15, 15, 15, -29, 18), (-15, -15, 16, 20, -29, 18), (-15, -15, 16, 20, 19, 19), (-14, 9, -27, -4, -29, 18), (-14, 9, -27, -4, 19, 19), (-14, 9, -3, -3, -29, 18), (-14, 9, -3, -3, 19, 19), (-14, 9, -2, 14, -29, 18), (-14, 9, -2, 14, 19, 19), (-14, 9, 15, 15, -29, 18), (-14, 9, 15, 15, 19, 19), (-14, 9, 16, 20, -29, 18), (-14, 9, 16, 20, 19, 19)]\n"
     ]
    },
    {
     "data": {
      "text/plain": [
       "[(-22, -16, -27, 20, -29, 19),\n",
       " (-15, -15, -27, -4, -29, 19),\n",
       " (-15, -15, -3, 20, -29, 18),\n",
       " (-15, -15, 16, 20, 19, 19),\n",
       " (-14, 9, -27, 20, -29, 19)]"
      ]
     },
     "execution_count": 85,
     "metadata": {},
     "output_type": "execute_result"
    }
   ],
   "source": [
    "to_reduce = [(-22, -16, -27, -4, -29, 18), (-22, -16, -27, -4, 19, 19), (-22, -16, -27, -4, 19, 19), (-22, -16, -3, -3, -29, 18), (-22, -16, -3, -3, 19, 19), (-22, -16, -3, -3, 19, 19), (-22, -16, -2, 14, -29, 18), (-22, -16, -2, 14, 19, 19), (-22, -16, -2, 14, 19, 19), (-22, -16, 15, 15, -29, 18), (-22, -16, 15, 15, 19, 19), (-22, -16, 15, 15, 19, 19), (-22, -16, 16, 20, -29, 18), (-22, -16, 16, 20, 19, 19), (-22, -16, 16, 20, 19, 19), (-15, -15, -27, -4, -29, 18), (-15, -15, -27, -4, 19, 19), (-15, -15, -27, -4, 19, 19), (-15, -15, -3, -3, -29, 18), (-15, -15, -2, 14, -29, 18), (-15, -15, 15, 15, -29, 18), (-15, -15, 16, 20, -29, 18), (-15, -15, 16, 20, 19, 19), (-15, -15, 16, 20, 19, 19), (-14, 9, -27, -4, -29, 18), (-14, 9, -27, -4, 19, 19), (-14, 9, -27, -4, 19, 19), (-14, 9, -3, -3, -29, 18), (-14, 9, -3, -3, 19, 19), (-14, 9, -3, -3, 19, 19), (-14, 9, -2, 14, -29, 18), (-14, 9, -2, 14, 19, 19), (-14, 9, -2, 14, 19, 19), (-14, 9, 15, 15, -29, 18), (-14, 9, 15, 15, 19, 19), (-14, 9, 15, 15, 19, 19), (-14, 9, 16, 20, -29, 18), (-14, 9, 16, 20, 19, 19), (-14, 9, 16, 20, 19, 19)]\n",
    "to_reduce_sorted = sorted(list(set(to_reduce)))\n",
    "print(to_reduce_sorted)\n",
    "reduce_list(to_reduce, True)"
   ]
  },
  {
   "cell_type": "code",
   "execution_count": 130,
   "metadata": {
    "scrolled": true
   },
   "outputs": [
    {
     "data": {
      "text/plain": [
       "474140"
      ]
     },
     "execution_count": 130,
     "metadata": {},
     "output_type": "execute_result"
    }
   ],
   "source": [
    "solve1(inputs_3)"
   ]
  },
  {
   "cell_type": "code",
   "execution_count": 94,
   "metadata": {},
   "outputs": [
    {
     "name": "stdout",
     "output_type": "stream",
     "text": [
      "step 10/10 - 0min0s - 189, 6\n",
      "CPU times: user 71 ms, sys: 1e+03 ns, total: 71 ms\n",
      "Wall time: 69.6 ms\n"
     ]
    },
    {
     "data": {
      "text/plain": [
       "474140"
      ]
     },
     "execution_count": 94,
     "metadata": {},
     "output_type": "execute_result"
    }
   ],
   "source": [
    "%%time\n",
    "solve2(inputs_3[:10])"
   ]
  },
  {
   "cell_type": "code",
   "execution_count": 95,
   "metadata": {},
   "outputs": [
    {
     "name": "stdout",
     "output_type": "stream",
     "text": [
      "step 10/60 - 0min0s - 11, 90\n",
      "step 20/60 - 0min0s - 328, 730\n",
      "step 30/60 - 0min2s - 2083, 1177\n",
      "step 40/60 - 0min16s - 8175, 1177\n",
      "step 50/60 - 0min30s - 11629, 1177\n",
      "step 60/60 - 0min31s - 11801, 1183\n",
      "CPU times: user 31.3 s, sys: 28 ms, total: 31.3 s\n",
      "Wall time: 31.4 s\n"
     ]
    },
    {
     "data": {
      "text/plain": [
       "2758514936282235"
      ]
     },
     "execution_count": 95,
     "metadata": {},
     "output_type": "execute_result"
    }
   ],
   "source": [
    "%%time\n",
    "solve2(inputs_3)\n",
    "\n",
    "# 2758514936282235"
   ]
  },
  {
   "cell_type": "code",
   "execution_count": 91,
   "metadata": {},
   "outputs": [
    {
     "name": "stdout",
     "output_type": "stream",
     "text": [
      "step 10/420 - 0min0s - 13, 3\n",
      "step 20/420 - 0min0s - 19, 7\n",
      "step 30/420 - 0min0s - 133, 12\n",
      "step 40/420 - 0min0s - 150, 49\n",
      "step 50/420 - 0min0s - 313, 139\n",
      "step 60/420 - 0min0s - 452, 259\n",
      "step 70/420 - 0min0s - 560, 280\n",
      "step 80/420 - 0min0s - 760, 319\n",
      "step 90/420 - 0min0s - 906, 337\n",
      "step 100/420 - 0min1s - 1232, 690\n",
      "step 110/420 - 0min1s - 1300, 791\n",
      "step 120/420 - 0min1s - 1300, 1711\n",
      "step 130/420 - 0min2s - 1499, 1932\n",
      "step 140/420 - 0min2s - 1640, 2095\n",
      "step 150/420 - 0min3s - 2162, 2112\n",
      "step 160/420 - 0min3s - 2183, 2325\n",
      "step 170/420 - 0min5s - 2925, 3185\n",
      "step 180/420 - 0min6s - 3667, 3272\n",
      "step 190/420 - 0min9s - 4805, 3396\n",
      "step 200/420 - 0min16s - 5080, 5524\n",
      "step 210/420 - 0min20s - 6216, 5649\n",
      "step 220/420 - 0min25s - 8164, 5649\n",
      "step 230/420 - 0min34s - 10370, 5649\n",
      "step 240/420 - 0min43s - 12617, 5649\n",
      "step 250/420 - 0min58s - 16346, 5649\n",
      "step 260/420 - 1min19s - 18595, 5649\n",
      "step 270/420 - 1min44s - 21894, 5649\n",
      "step 280/420 - 2min13s - 24453, 5649\n",
      "step 290/420 - 2min50s - 28168, 5649\n",
      "step 300/420 - 3min17s - 30690, 5649\n",
      "step 310/420 - 4min8s - 34115, 5649\n",
      "step 320/420 - 6min15s - 42837, 5649\n",
      "step 330/420 - 7min34s - 47209, 5649\n",
      "step 340/420 - 8min44s - 49973, 5649\n",
      "step 350/420 - 9min41s - 51902, 5649\n",
      "step 360/420 - 11min15s - 55429, 5649\n",
      "step 370/420 - 12min59s - 60609, 5649\n",
      "step 380/420 - 15min42s - 66803, 5649\n",
      "step 390/420 - 17min21s - 70915, 5649\n",
      "step 400/420 - 20min46s - 77042, 5649\n",
      "step 410/420 - 20min52s - 77252, 5658\n",
      "step 420/420 - 21min56s - 78541, 5659\n",
      "CPU times: user 21min 53s, sys: 564 ms, total: 21min 53s\n",
      "Wall time: 21min 58s\n"
     ]
    },
    {
     "data": {
      "text/plain": [
       "1288707160324706"
      ]
     },
     "execution_count": 91,
     "metadata": {},
     "output_type": "execute_result"
    }
   ],
   "source": [
    "%%time\n",
    "solve2(inputs)"
   ]
  },
  {
   "cell_type": "markdown",
   "metadata": {},
   "source": [
    "---"
   ]
  }
 ],
 "metadata": {
  "kernelspec": {
   "display_name": "Python 3",
   "language": "python",
   "name": "python3"
  },
  "language_info": {
   "codemirror_mode": {
    "name": "ipython",
    "version": 3
   },
   "file_extension": ".py",
   "mimetype": "text/x-python",
   "name": "python",
   "nbconvert_exporter": "python",
   "pygments_lexer": "ipython3",
   "version": "3.8.10"
  }
 },
 "nbformat": 4,
 "nbformat_minor": 2
}
