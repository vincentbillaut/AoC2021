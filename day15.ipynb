{
 "cells": [
  {
   "cell_type": "markdown",
   "metadata": {},
   "source": [
    "### Day 15"
   ]
  },
  {
   "cell_type": "code",
   "execution_count": 23,
   "metadata": {},
   "outputs": [],
   "source": [
    "import numpy as np\n",
    "import matplotlib.pyplot as plt\n",
    "from collections import defaultdict, Counter"
   ]
  },
  {
   "cell_type": "code",
   "execution_count": 2,
   "metadata": {},
   "outputs": [],
   "source": [
    "day_i = 15"
   ]
  },
  {
   "cell_type": "code",
   "execution_count": 3,
   "metadata": {},
   "outputs": [
    {
     "name": "stdout",
     "output_type": "stream",
     "text": [
      "Initializing day 15\n"
     ]
    }
   ],
   "source": [
    "%run start_day.py $day_i"
   ]
  },
  {
   "cell_type": "code",
   "execution_count": 4,
   "metadata": {},
   "outputs": [
    {
     "name": "stdout",
     "output_type": "stream",
     "text": [
      "/home/vincent/Documents/AdventOfCode/2021\n"
     ]
    }
   ],
   "source": [
    "cd /home/vincent/Documents/AdventOfCode/2021"
   ]
  },
  {
   "cell_type": "code",
   "execution_count": 5,
   "metadata": {},
   "outputs": [],
   "source": [
    "PATH = f\"day{day_i}/input{day_i}\""
   ]
  },
  {
   "cell_type": "code",
   "execution_count": 6,
   "metadata": {},
   "outputs": [
    {
     "name": "stdout",
     "output_type": "stream",
     "text": [
      "100 day15/input15\r\n"
     ]
    }
   ],
   "source": [
    "!wc -l $PATH"
   ]
  },
  {
   "cell_type": "code",
   "execution_count": 7,
   "metadata": {},
   "outputs": [
    {
     "name": "stdout",
     "output_type": "stream",
     "text": [
      "1797218461142179319573884891481221191657631838831754357117998319396235714788116521813149318951532839\r\n",
      "8696981297918411971289919865719836144693333162529142812974198292932295491956499215586135482941739392\r\n",
      "2991519621128967692174919369871962711711888349621119249111241263371998761114982461871811915749818981\r\n",
      "9519298621148891919219116926535193934326629926112136839413932239182391497985687943399987482691961448\r\n",
      "3322441212551229339949332249462272248555173795333563937398919128799491931719178641531998141722584429\r\n",
      "9118353711988171611983883569964392454546273683762581127881992188984158689612224523966629229869841368\r\n",
      "6619293351892345695919931961961959917575811995111642219592114857133566312236841811951318937396921471\r\n",
      "4119719294958136935585131572211882179799139693669968792713194888628799229972719918777119331922298192\r\n",
      "2897361395359964817739628715924942441921486256913485426413911886166322118384197271142719438976157178\r\n",
      "3389638941186823278892211919997494993715555987282539661565969785971121324112299762618146712244947159\r\n"
     ]
    }
   ],
   "source": [
    "!head $PATH"
   ]
  },
  {
   "cell_type": "code",
   "execution_count": 8,
   "metadata": {},
   "outputs": [
    {
     "name": "stdout",
     "output_type": "stream",
     "text": [
      "1919894989221529553399133386169999552895185552222755159922552431149786511973745343931818539315311175\r\n",
      "2683381835121351182998489919911372894291894973399493194281379971969183416974346479151274291799853129\r\n",
      "1751991384249781899947665921219827616999239519455929713722239711149225383616519712941889322712828418\r\n",
      "3295919911592497192118828258118529133121427523281991929691965274368825689299671219749189813124887278\r\n",
      "7828319259851721362716353874221716695129721491254728715913967965694595858939949833991856557249153792\r\n",
      "4643162283932891824519919817417814174343124346663682549387955944171239182344299415172323771718859129\r\n",
      "9382811937823973227813927835213688211415836968191527337792159834142739892661818877429739395149421471\r\n",
      "3279512226121999191142499711269119643819431895822859387584439741423768775114929691745825321781118144\r\n",
      "9391973246579999241217437296325675163824334513949186691912595622177779849572792973716569959311526846\r\n",
      "4671438158382646393847419899596676468374198874175298772399482512793928838556984113933878117348995239\r\n"
     ]
    }
   ],
   "source": [
    "!tail $PATH"
   ]
  },
  {
   "cell_type": "code",
   "execution_count": 9,
   "metadata": {},
   "outputs": [],
   "source": [
    "def parse_input(inp):\n",
    "    return [list(map(int, x)) for x in inp]"
   ]
  },
  {
   "cell_type": "code",
   "execution_count": 10,
   "metadata": {},
   "outputs": [],
   "source": [
    "# real input\n",
    "with open(PATH, 'r') as f:\n",
    "    l = parse_input([x.strip() for x in f.readlines()])\n"
   ]
  },
  {
   "cell_type": "code",
   "execution_count": 11,
   "metadata": {},
   "outputs": [],
   "source": [
    "# test input\n",
    "test_str1 = \"\"\"1163751742\n",
    "1381373672\n",
    "2136511328\n",
    "3694931569\n",
    "7463417111\n",
    "1319128137\n",
    "1359912421\n",
    "3125421639\n",
    "1293138521\n",
    "2311944581\"\"\"\n",
    "\n",
    "l_1 = parse_input(test_str1.split('\\n'))"
   ]
  },
  {
   "cell_type": "code",
   "execution_count": 12,
   "metadata": {},
   "outputs": [
    {
     "data": {
      "text/plain": [
       "[[1, 1, 6, 3, 7, 5, 1, 7, 4, 2],\n",
       " [1, 3, 8, 1, 3, 7, 3, 6, 7, 2],\n",
       " [2, 1, 3, 6, 5, 1, 1, 3, 2, 8],\n",
       " [3, 6, 9, 4, 9, 3, 1, 5, 6, 9],\n",
       " [7, 4, 6, 3, 4, 1, 7, 1, 1, 1],\n",
       " [1, 3, 1, 9, 1, 2, 8, 1, 3, 7],\n",
       " [1, 3, 5, 9, 9, 1, 2, 4, 2, 1],\n",
       " [3, 1, 2, 5, 4, 2, 1, 6, 3, 9],\n",
       " [1, 2, 9, 3, 1, 3, 8, 5, 2, 1],\n",
       " [2, 3, 1, 1, 9, 4, 4, 5, 8, 1]]"
      ]
     },
     "execution_count": 12,
     "metadata": {},
     "output_type": "execute_result"
    }
   ],
   "source": [
    "l_1"
   ]
  },
  {
   "cell_type": "code",
   "execution_count": 77,
   "metadata": {},
   "outputs": [],
   "source": [
    "import networkx as nx\n",
    "\n",
    "def explore_graph(l, matrix, i=0, j=0, path_weight=0):\n",
    "    if matrix[i,j] == 0 or matrix[i,j] > path_weight:\n",
    "        matrix[i, j] = path_weight\n",
    "    neighbors = [(i+1, j), (i, j+1), (i-1, j), (i, j-1)]\n",
    "    neighbors = [x for x in neighbors if -1 not in x and x[0] != len(l) and x[1] != len(l[0])] # control edges\n",
    "    for ni, nj in neighbors:\n",
    "        new_path_weight = path_weight + l[ni][nj]\n",
    "        if matrix[ni, nj] == 0 or matrix[ni, nj] > new_path_weight:\n",
    "            explore_graph(l, matrix, ni, nj, new_path_weight)\n",
    "\n",
    "def compute_graph(l):\n",
    "    n, m = len(l), len(l[0])\n",
    "    G = nx.DiGraph()\n",
    "    for i in range(n):\n",
    "        for j in range(m):\n",
    "            G.add_node((i, j))\n",
    "    for i,j in G.nodes():\n",
    "        neighbors = [(i+1, j), (i, j+1), (i-1, j), (i, j-1)]\n",
    "        neighbors = [x for x in neighbors if -1 not in x and x[0] != len(l) and x[1] != len(l[0])] # control edges\n",
    "        for ni, nj in neighbors:\n",
    "            G.add_edge((i,j), (ni, nj), weight=l[ni][nj])\n",
    "    return G\n",
    "\n",
    "def modified_weight(l, i, j):\n",
    "    n, m = len(l), len(l[0])\n",
    "    ni, nj = i // n, j // m\n",
    "    return (l[i % n][j % m] + ni + nj - 1) % 9 + 1\n",
    "\n",
    "def compute_big_graph(l):\n",
    "    n, m = len(l), len(l[0])\n",
    "    G = nx.DiGraph()\n",
    "    for i in range(5 * n):\n",
    "        for j in range(5 * m):\n",
    "            G.add_node((i, j))\n",
    "    for i, j in G.nodes():\n",
    "        neighbors = [(i+1, j), (i, j+1), (i-1, j), (i, j-1)]\n",
    "        neighbors = [x for x in neighbors if -1 not in x and x[0] != 5 * len(l) and x[1] != 5 * len(l[0])] # control edges\n",
    "        for ni, nj in neighbors:\n",
    "            G.add_edge((i,j), (ni, nj), weight=modified_weight(l, ni, nj))\n",
    "    return G\n",
    "\n",
    "def solve1(l):\n",
    "    shortest_paths = np.zeros((len(l), len(l[0])), dtype=int)\n",
    "    explore_graph(l, shortest_paths)\n",
    "    return shortest_paths[-1, -1]\n",
    "\n",
    "def solve1bis(l):\n",
    "    G = compute_graph(l)\n",
    "    print(len(G.nodes()))\n",
    "    return nx.algorithms.shortest_paths.generic.shortest_path_length(G, \n",
    "                                                          source=(0, 0), \n",
    "                                                          target=(len(l)-1, len(l[0])-1), \n",
    "                                                          weight='weight')\n",
    "\n",
    "def solve2(l):\n",
    "    G = compute_big_graph(l)\n",
    "    print(len(G.nodes()))\n",
    "    return nx.algorithms.shortest_paths.generic.shortest_path_length(G, \n",
    "                                                          source=(0, 0), \n",
    "                                                          target=(5*len(l)-1, 5*len(l[0])-1), \n",
    "                                                          weight='weight')"
   ]
  },
  {
   "cell_type": "code",
   "execution_count": 51,
   "metadata": {
    "scrolled": true
   },
   "outputs": [
    {
     "name": "stdout",
     "output_type": "stream",
     "text": [
      "100\n"
     ]
    },
    {
     "data": {
      "text/plain": [
       "40"
      ]
     },
     "execution_count": 51,
     "metadata": {},
     "output_type": "execute_result"
    }
   ],
   "source": [
    "solve1bis(l_1)"
   ]
  },
  {
   "cell_type": "code",
   "execution_count": null,
   "metadata": {},
   "outputs": [],
   "source": [
    "import sys\n",
    "sys.setrecursionlimit(40000)\n",
    "solve1(l)"
   ]
  },
  {
   "cell_type": "code",
   "execution_count": 52,
   "metadata": {},
   "outputs": [
    {
     "name": "stdout",
     "output_type": "stream",
     "text": [
      "10000\n"
     ]
    },
    {
     "data": {
      "text/plain": [
       "537"
      ]
     },
     "execution_count": 52,
     "metadata": {},
     "output_type": "execute_result"
    }
   ],
   "source": [
    "solve1bis(l)"
   ]
  },
  {
   "cell_type": "code",
   "execution_count": 75,
   "metadata": {},
   "outputs": [],
   "source": [
    "G_1 = compute_big_graph(l_1)"
   ]
  },
  {
   "cell_type": "code",
   "execution_count": 76,
   "metadata": {},
   "outputs": [
    {
     "name": "stdout",
     "output_type": "stream",
     "text": [
      "(49, 49) (48, 49) {'weight': 1}\n",
      "(49, 49) (49, 48) {'weight': 8}\n"
     ]
    }
   ],
   "source": [
    "node = (49, 49)\n",
    "for n in G_1.neighbors(node):\n",
    "    print(node, n, G_1.get_edge_data(node, n))"
   ]
  },
  {
   "cell_type": "code",
   "execution_count": 78,
   "metadata": {
    "scrolled": true
   },
   "outputs": [
    {
     "name": "stdout",
     "output_type": "stream",
     "text": [
      "2500\n"
     ]
    },
    {
     "data": {
      "text/plain": [
       "315"
      ]
     },
     "execution_count": 78,
     "metadata": {},
     "output_type": "execute_result"
    }
   ],
   "source": [
    "solve2(l_1)"
   ]
  },
  {
   "cell_type": "code",
   "execution_count": 79,
   "metadata": {},
   "outputs": [
    {
     "name": "stdout",
     "output_type": "stream",
     "text": [
      "250000\n"
     ]
    },
    {
     "data": {
      "text/plain": [
       "2881"
      ]
     },
     "execution_count": 79,
     "metadata": {},
     "output_type": "execute_result"
    }
   ],
   "source": [
    "solve2(l)"
   ]
  },
  {
   "cell_type": "code",
   "execution_count": null,
   "metadata": {},
   "outputs": [],
   "source": []
  }
 ],
 "metadata": {
  "kernelspec": {
   "display_name": "Python 3",
   "language": "python",
   "name": "python3"
  },
  "language_info": {
   "codemirror_mode": {
    "name": "ipython",
    "version": 3
   },
   "file_extension": ".py",
   "mimetype": "text/x-python",
   "name": "python",
   "nbconvert_exporter": "python",
   "pygments_lexer": "ipython3",
   "version": "3.8.10"
  }
 },
 "nbformat": 4,
 "nbformat_minor": 2
}
