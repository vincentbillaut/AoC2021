{
 "cells": [
  {
   "cell_type": "markdown",
   "metadata": {},
   "source": [
    "### Day 18"
   ]
  },
  {
   "cell_type": "code",
   "execution_count": 1,
   "metadata": {},
   "outputs": [],
   "source": [
    "import numpy as np\n",
    "from collections import defaultdict, Counter"
   ]
  },
  {
   "cell_type": "code",
   "execution_count": 2,
   "metadata": {},
   "outputs": [],
   "source": [
    "day_i = 18"
   ]
  },
  {
   "cell_type": "code",
   "execution_count": 3,
   "metadata": {},
   "outputs": [
    {
     "name": "stdout",
     "output_type": "stream",
     "text": [
      "Initializing day 18\n"
     ]
    }
   ],
   "source": [
    "%run start_day.py $day_i"
   ]
  },
  {
   "cell_type": "code",
   "execution_count": 4,
   "metadata": {},
   "outputs": [
    {
     "name": "stdout",
     "output_type": "stream",
     "text": [
      "/home/vincent/Documents/AdventOfCode/2021\n"
     ]
    }
   ],
   "source": [
    "cd /home/vincent/Documents/AdventOfCode/2021"
   ]
  },
  {
   "cell_type": "code",
   "execution_count": 5,
   "metadata": {},
   "outputs": [],
   "source": [
    "PATH = f\"day{day_i}/input{day_i}\""
   ]
  },
  {
   "cell_type": "code",
   "execution_count": 6,
   "metadata": {},
   "outputs": [
    {
     "name": "stdout",
     "output_type": "stream",
     "text": [
      "100 day18/input18\r\n"
     ]
    }
   ],
   "source": [
    "!wc -l $PATH"
   ]
  },
  {
   "cell_type": "code",
   "execution_count": 7,
   "metadata": {},
   "outputs": [
    {
     "name": "stdout",
     "output_type": "stream",
     "text": [
      "[5,[5,0]]\r\n",
      "[[[[8,4],3],[6,7]],[[[7,4],2],[[5,7],[1,5]]]]\r\n",
      "[[[[7,6],[4,6]],1],[[5,7],[0,[2,1]]]]\r\n",
      "[[[[5,8],[3,5]],[9,0]],[[[4,0],[4,1]],[[9,3],1]]]\r\n",
      "[7,[[[6,4],[2,7]],[[8,8],5]]]\r\n",
      "[[9,6],[1,[[4,5],3]]]\r\n",
      "[[[7,1],[2,4]],[[[6,2],[1,6]],[8,8]]]\r\n",
      "[[[[1,9],[1,1]],[2,9]],5]\r\n",
      "[7,[[[0,0],8],[[5,2],[7,6]]]]\r\n",
      "[[[8,[8,7]],6],[7,[6,2]]]\r\n"
     ]
    }
   ],
   "source": [
    "!head $PATH"
   ]
  },
  {
   "cell_type": "code",
   "execution_count": 8,
   "metadata": {},
   "outputs": [
    {
     "name": "stdout",
     "output_type": "stream",
     "text": [
      "[[[3,0],8],[2,[3,7]]]\r\n",
      "[3,[[[7,0],5],[[2,2],[8,9]]]]\r\n",
      "[[9,[4,6]],[[[3,6],8],[5,0]]]\r\n",
      "[[[9,5],[[8,7],[0,0]]],[[8,[8,9]],[6,[8,1]]]]\r\n",
      "[[[4,5],[[1,7],[9,1]]],[[[5,7],[8,9]],[[4,8],5]]]\r\n",
      "[[[[0,7],8],[8,0]],[2,[[5,4],2]]]\r\n",
      "[[[8,4],6],[3,[[0,7],[8,0]]]]\r\n",
      "[[[[1,4],[3,7]],[[6,9],0]],[5,5]]\r\n",
      "[[3,[[6,1],[8,7]]],[[7,8],9]]\r\n",
      "[[[[8,5],[7,5]],[[1,0],[2,7]]],[1,[[2,3],[2,8]]]]\r\n"
     ]
    }
   ],
   "source": [
    "!tail $PATH"
   ]
  },
  {
   "cell_type": "code",
   "execution_count": 9,
   "metadata": {},
   "outputs": [],
   "source": [
    "def parse_input(inp):\n",
    "    return [eval(x) for x in inp]"
   ]
  },
  {
   "cell_type": "code",
   "execution_count": 10,
   "metadata": {},
   "outputs": [],
   "source": [
    "# real input\n",
    "with open(PATH, 'r') as f:\n",
    "    inputs = parse_input([x.strip() for x in f.readlines()])\n"
   ]
  },
  {
   "cell_type": "code",
   "execution_count": 92,
   "metadata": {},
   "outputs": [],
   "source": [
    "# test input\n",
    "test_str1 = \"\"\"[1,1]\n",
    "[2,2]\n",
    "[3,3]\n",
    "[4,4]\n",
    "[5,5]\n",
    "[6,6]\"\"\"\n",
    "\n",
    "test_str2 = \"\"\"[[[0,[4,5]],[0,0]],[[[4,5],[2,6]],[9,5]]]\n",
    "[7,[[[3,7],[4,3]],[[6,3],[8,8]]]]\n",
    "[[2,[[0,8],[3,4]]],[[[6,7],1],[7,[1,6]]]]\n",
    "[[[[2,4],7],[6,[0,5]]],[[[6,8],[2,8]],[[2,1],[4,5]]]]\n",
    "[7,[5,[[3,8],[1,4]]]]\n",
    "[[2,[2,2]],[8,[8,1]]]\n",
    "[2,9]\n",
    "[1,[[[9,3],9],[[9,0],[0,7]]]]\n",
    "[[[5,[7,4]],7],1]\n",
    "[[[[4,2],2],6],[8,7]]\"\"\"\n",
    "\n",
    "inputs_1 = parse_input(test_str1.split('\\n'))\n",
    "inputs_2 = parse_input(test_str2.split('\\n'))"
   ]
  },
  {
   "cell_type": "code",
   "execution_count": 154,
   "metadata": {},
   "outputs": [],
   "source": [
    "class Number():\n",
    "    def __init__(self, l):\n",
    "        self.content = l\n",
    "        self.type = \"integer\" if type(l) == int else \"list\"\n",
    "        \n",
    "    def __add__(self, o):\n",
    "        self.content = [self.content, o.content]\n",
    "        self.do_reduce()\n",
    "        return self\n",
    "    \n",
    "    def __str__(self):\n",
    "        return str(self.content)\n",
    "    \n",
    "    def add_to_left(self, n):\n",
    "        if n is None:\n",
    "            return self.content\n",
    "        if self.type == \"integer\":\n",
    "            return self.content + n\n",
    "        else:\n",
    "            return [Number(self.content[0]).add_to_left(n), self.content[1]]\n",
    "    \n",
    "    def add_to_right(self, n):\n",
    "        if n is None:\n",
    "            return self.content\n",
    "        if self.type == \"integer\":\n",
    "            return self.content + n\n",
    "        else:\n",
    "            return [self.content[0], Number(self.content[1]).add_to_right(n)]\n",
    "    \n",
    "    def do_explode(self, n=0):\n",
    "        if self.type == \"integer\":\n",
    "            return False, None, None\n",
    "        if n == 4:\n",
    "            l, r = self.content[0], self.content[1]\n",
    "            self.content = 0\n",
    "            return True, l, r\n",
    "        left = Number(self.content[0])\n",
    "        right = Number(self.content[1])\n",
    "        lexplode, lleft, lright = left.do_explode(n+1)\n",
    "        if lexplode:\n",
    "            self.content = [left.content, right.add_to_left(lright)]\n",
    "            return True, lleft, None\n",
    "        rexplode, rleft, rright = right.do_explode(n+1)\n",
    "        if rexplode:\n",
    "            self.content = [left.add_to_right(rleft), right.content]\n",
    "            return True, None, rright\n",
    "        return False, None, None\n",
    "    \n",
    "    def do_split(self):\n",
    "        if self.type == \"integer\":\n",
    "            value = self.content\n",
    "            if value > 9:\n",
    "                self.content = [value // 2, (value + 1) // 2]\n",
    "                return True\n",
    "            else:\n",
    "                return False\n",
    "        else:\n",
    "            left = Number(self.content[0])\n",
    "            right = Number(self.content[1])\n",
    "            if left.do_split():\n",
    "                self.content[0] = left.content\n",
    "                return True\n",
    "            elif right.do_split():\n",
    "                self.content[1] = right.content\n",
    "                return True\n",
    "            else:\n",
    "                return False\n",
    "    \n",
    "    def do_reduce(self, debug=False):\n",
    "        if debug: print(\" \"* 12, self.content)\n",
    "        while True:\n",
    "            exploded, _, _ = self.do_explode()\n",
    "            if debug: print(\"exploded\".ljust(12), self.content)\n",
    "            if not exploded:\n",
    "                split = self.do_split()\n",
    "                if debug: print(\"split\".ljust(12), self.content)\n",
    "                if not split:\n",
    "                    return\n",
    "    \n",
    "    @property\n",
    "    def magnitude(self):\n",
    "        if self.type == \"integer\":\n",
    "            return self.content\n",
    "        left, right = Number(self.content[0]), Number(self.content[1])\n",
    "        return 3 * left.magnitude + 2 * right.magnitude\n"
   ]
  },
  {
   "cell_type": "code",
   "execution_count": 159,
   "metadata": {},
   "outputs": [],
   "source": [
    "def solve1(inp):\n",
    "    current = Number(inp[0])\n",
    "    for i in range(1, len(inp)):\n",
    "        current += Number(inp[i])\n",
    "    return current.magnitude\n",
    "\n",
    "def solve2(inp):\n",
    "    magnitudes = []\n",
    "    for x1 in inp:\n",
    "        for x2 in inp:\n",
    "            if x1 != x2:\n",
    "                s = Number(x1) + Number(x2)\n",
    "                magnitudes.append(s.magnitude)\n",
    "    return max(magnitudes)"
   ]
  },
  {
   "cell_type": "code",
   "execution_count": 156,
   "metadata": {},
   "outputs": [
    {
     "name": "stdout",
     "output_type": "stream",
     "text": [
      "1137\n"
     ]
    }
   ],
   "source": [
    "print(solve1(inputs_1))"
   ]
  },
  {
   "cell_type": "code",
   "execution_count": 157,
   "metadata": {},
   "outputs": [
    {
     "name": "stdout",
     "output_type": "stream",
     "text": [
      "3488\n"
     ]
    }
   ],
   "source": [
    "print(solve1(inputs_2))"
   ]
  },
  {
   "cell_type": "code",
   "execution_count": 158,
   "metadata": {},
   "outputs": [
    {
     "data": {
      "text/plain": [
       "4391"
      ]
     },
     "execution_count": 158,
     "metadata": {},
     "output_type": "execute_result"
    }
   ],
   "source": [
    "solve1(inputs)"
   ]
  },
  {
   "cell_type": "code",
   "execution_count": 160,
   "metadata": {},
   "outputs": [
    {
     "data": {
      "text/plain": [
       "4626"
      ]
     },
     "execution_count": 160,
     "metadata": {},
     "output_type": "execute_result"
    }
   ],
   "source": [
    "solve2(inputs)"
   ]
  },
  {
   "cell_type": "code",
   "execution_count": null,
   "metadata": {},
   "outputs": [],
   "source": [
    "solve2()"
   ]
  }
 ],
 "metadata": {
  "kernelspec": {
   "display_name": "Python 3",
   "language": "python",
   "name": "python3"
  },
  "language_info": {
   "codemirror_mode": {
    "name": "ipython",
    "version": 3
   },
   "file_extension": ".py",
   "mimetype": "text/x-python",
   "name": "python",
   "nbconvert_exporter": "python",
   "pygments_lexer": "ipython3",
   "version": "3.8.10"
  }
 },
 "nbformat": 4,
 "nbformat_minor": 2
}
